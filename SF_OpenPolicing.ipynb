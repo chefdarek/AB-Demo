{
  "nbformat": 4,
  "nbformat_minor": 0,
  "metadata": {
    "colab": {
      "name": "SF_OpenPolicing.ipynb",
      "version": "0.3.2",
      "provenance": [],
      "collapsed_sections": [],
      "machine_shape": "hm",
      "include_colab_link": true
    },
    "kernelspec": {
      "name": "python3",
      "display_name": "Python 3"
    },
    "accelerator": "TPU"
  },
  "cells": [
    {
      "cell_type": "markdown",
      "metadata": {
        "id": "view-in-github",
        "colab_type": "text"
      },
      "source": [
        "<a href=\"https://colab.research.google.com/github/chefdarek/AB-Demo/blob/master/SF_OpenPolicing.ipynb\" target=\"_parent\"><img src=\"https://colab.research.google.com/assets/colab-badge.svg\" alt=\"Open In Colab\"/></a>"
      ]
    },
    {
      "cell_type": "code",
      "metadata": {
        "id": "NAeKFda_iXF7",
        "colab_type": "code",
        "colab": {}
      },
      "source": [
        "import pandas as pd\n",
        "import matplotlib.pyplot as plt\n",
        "import numpy as np"
      ],
      "execution_count": 0,
      "outputs": []
    },
    {
      "cell_type": "code",
      "metadata": {
        "id": "1qhSoI-rCwVi",
        "colab_type": "code",
        "outputId": "9a65e305-d7b6-4551-be43-a6cdd74a1801",
        "colab": {
          "base_uri": "https://localhost:8080/",
          "height": 72
        }
      },
      "source": [
        "sf = pd.read_csv('https://stacks.stanford.edu/file/druid:tr137st9964/tr137st9964_ca_san_francisco_2019_02_25.csv.zip')"
      ],
      "execution_count": 2,
      "outputs": [
        {
          "output_type": "stream",
          "text": [
            "/usr/local/lib/python3.6/dist-packages/IPython/core/interactiveshell.py:2718: DtypeWarning: Columns (6) have mixed types. Specify dtype option on import or set low_memory=False.\n",
            "  interactivity=interactivity, compiler=compiler, result=result)\n"
          ],
          "name": "stderr"
        }
      ]
    },
    {
      "cell_type": "code",
      "metadata": {
        "id": "rPmt2UKXJ4Ru",
        "colab_type": "code",
        "colab": {
          "base_uri": "https://localhost:8080/",
          "height": 261
        },
        "outputId": "a55d71a1-3896-4435-a62e-1c1c99e9261a"
      },
      "source": [
        "sf.head()"
      ],
      "execution_count": 3,
      "outputs": [
        {
          "output_type": "execute_result",
          "data": {
            "text/html": [
              "<div>\n",
              "<style scoped>\n",
              "    .dataframe tbody tr th:only-of-type {\n",
              "        vertical-align: middle;\n",
              "    }\n",
              "\n",
              "    .dataframe tbody tr th {\n",
              "        vertical-align: top;\n",
              "    }\n",
              "\n",
              "    .dataframe thead th {\n",
              "        text-align: right;\n",
              "    }\n",
              "</style>\n",
              "<table border=\"1\" class=\"dataframe\">\n",
              "  <thead>\n",
              "    <tr style=\"text-align: right;\">\n",
              "      <th></th>\n",
              "      <th>raw_row_number</th>\n",
              "      <th>date</th>\n",
              "      <th>time</th>\n",
              "      <th>location</th>\n",
              "      <th>lat</th>\n",
              "      <th>lng</th>\n",
              "      <th>district</th>\n",
              "      <th>subject_age</th>\n",
              "      <th>subject_race</th>\n",
              "      <th>subject_sex</th>\n",
              "      <th>type</th>\n",
              "      <th>arrest_made</th>\n",
              "      <th>citation_issued</th>\n",
              "      <th>warning_issued</th>\n",
              "      <th>outcome</th>\n",
              "      <th>contraband_found</th>\n",
              "      <th>search_conducted</th>\n",
              "      <th>search_vehicle</th>\n",
              "      <th>search_basis</th>\n",
              "      <th>reason_for_stop</th>\n",
              "    </tr>\n",
              "  </thead>\n",
              "  <tbody>\n",
              "    <tr>\n",
              "      <th>0</th>\n",
              "      <td>1</td>\n",
              "      <td>2007-01-01</td>\n",
              "      <td>00:11:00</td>\n",
              "      <td>POLK AT OFARRELL</td>\n",
              "      <td>37.784975</td>\n",
              "      <td>-122.419572</td>\n",
              "      <td>E</td>\n",
              "      <td>20.0</td>\n",
              "      <td>asian/pacific islander</td>\n",
              "      <td>male</td>\n",
              "      <td>vehicular</td>\n",
              "      <td>False</td>\n",
              "      <td>False</td>\n",
              "      <td>True</td>\n",
              "      <td>warning</td>\n",
              "      <td>NaN</td>\n",
              "      <td>False</td>\n",
              "      <td>False</td>\n",
              "      <td>NaN</td>\n",
              "      <td>Moving Violation</td>\n",
              "    </tr>\n",
              "    <tr>\n",
              "      <th>1</th>\n",
              "      <td>2</td>\n",
              "      <td>2007-01-01</td>\n",
              "      <td>00:23:00</td>\n",
              "      <td>ELLIS AND TAYLOR</td>\n",
              "      <td>37.785091</td>\n",
              "      <td>-122.411166</td>\n",
              "      <td>J</td>\n",
              "      <td>32.0</td>\n",
              "      <td>other/unknown</td>\n",
              "      <td>male</td>\n",
              "      <td>vehicular</td>\n",
              "      <td>False</td>\n",
              "      <td>False</td>\n",
              "      <td>True</td>\n",
              "      <td>warning</td>\n",
              "      <td>NaN</td>\n",
              "      <td>False</td>\n",
              "      <td>False</td>\n",
              "      <td>NaN</td>\n",
              "      <td>MPC Violation</td>\n",
              "    </tr>\n",
              "    <tr>\n",
              "      <th>2</th>\n",
              "      <td>3</td>\n",
              "      <td>2007-01-01</td>\n",
              "      <td>00:28:00</td>\n",
              "      <td>101/ARMY</td>\n",
              "      <td>37.774949</td>\n",
              "      <td>-122.419291</td>\n",
              "      <td>D</td>\n",
              "      <td>27.0</td>\n",
              "      <td>hispanic</td>\n",
              "      <td>male</td>\n",
              "      <td>vehicular</td>\n",
              "      <td>False</td>\n",
              "      <td>True</td>\n",
              "      <td>False</td>\n",
              "      <td>citation</td>\n",
              "      <td>NaN</td>\n",
              "      <td>False</td>\n",
              "      <td>False</td>\n",
              "      <td>NaN</td>\n",
              "      <td>Moving Violation</td>\n",
              "    </tr>\n",
              "    <tr>\n",
              "      <th>3</th>\n",
              "      <td>4</td>\n",
              "      <td>2007-01-01</td>\n",
              "      <td>00:30:00</td>\n",
              "      <td>CHARLES J BRENNAN ANDMARKET</td>\n",
              "      <td>37.774929</td>\n",
              "      <td>-122.419415</td>\n",
              "      <td>J</td>\n",
              "      <td>23.0</td>\n",
              "      <td>black</td>\n",
              "      <td>male</td>\n",
              "      <td>vehicular</td>\n",
              "      <td>False</td>\n",
              "      <td>True</td>\n",
              "      <td>False</td>\n",
              "      <td>citation</td>\n",
              "      <td>False</td>\n",
              "      <td>True</td>\n",
              "      <td>True</td>\n",
              "      <td>other</td>\n",
              "      <td>Moving Violation</td>\n",
              "    </tr>\n",
              "    <tr>\n",
              "      <th>4</th>\n",
              "      <td>5</td>\n",
              "      <td>2007-01-01</td>\n",
              "      <td>00:30:00</td>\n",
              "      <td>EMBARCADERO/BROADWAY</td>\n",
              "      <td>37.799318</td>\n",
              "      <td>-122.397569</td>\n",
              "      <td>E</td>\n",
              "      <td>24.0</td>\n",
              "      <td>hispanic</td>\n",
              "      <td>female</td>\n",
              "      <td>vehicular</td>\n",
              "      <td>False</td>\n",
              "      <td>True</td>\n",
              "      <td>False</td>\n",
              "      <td>citation</td>\n",
              "      <td>NaN</td>\n",
              "      <td>False</td>\n",
              "      <td>False</td>\n",
              "      <td>NaN</td>\n",
              "      <td>Moving Violation</td>\n",
              "    </tr>\n",
              "  </tbody>\n",
              "</table>\n",
              "</div>"
            ],
            "text/plain": [
              "   raw_row_number        date  ... search_basis   reason_for_stop\n",
              "0               1  2007-01-01  ...          NaN  Moving Violation\n",
              "1               2  2007-01-01  ...          NaN     MPC Violation\n",
              "2               3  2007-01-01  ...          NaN  Moving Violation\n",
              "3               4  2007-01-01  ...        other  Moving Violation\n",
              "4               5  2007-01-01  ...          NaN  Moving Violation\n",
              "\n",
              "[5 rows x 20 columns]"
            ]
          },
          "metadata": {
            "tags": []
          },
          "execution_count": 3
        }
      ]
    },
    {
      "cell_type": "code",
      "metadata": {
        "id": "Xj6X35Pzw5bW",
        "colab_type": "code",
        "colab": {
          "base_uri": "https://localhost:8080/",
          "height": 451
        },
        "outputId": "e86f1067-c6e5-4d44-a0ef-7c326a278c3e"
      },
      "source": [
        "sf.info()"
      ],
      "execution_count": 4,
      "outputs": [
        {
          "output_type": "stream",
          "text": [
            "<class 'pandas.core.frame.DataFrame'>\n",
            "RangeIndex: 907761 entries, 0 to 907760\n",
            "Data columns (total 20 columns):\n",
            "raw_row_number      907761 non-null int64\n",
            "date                907761 non-null object\n",
            "time                907726 non-null object\n",
            "location            907718 non-null object\n",
            "lat                 906061 non-null float64\n",
            "lng                 906061 non-null float64\n",
            "district            855469 non-null object\n",
            "subject_age         848723 non-null float64\n",
            "subject_race        907761 non-null object\n",
            "subject_sex         907761 non-null object\n",
            "type                907761 non-null object\n",
            "arrest_made         907761 non-null bool\n",
            "citation_issued     907761 non-null bool\n",
            "warning_issued      907761 non-null bool\n",
            "outcome             891946 non-null object\n",
            "contraband_found    53756 non-null object\n",
            "search_conducted    907761 non-null bool\n",
            "search_vehicle      907761 non-null bool\n",
            "search_basis        53756 non-null object\n",
            "reason_for_stop     905537 non-null object\n",
            "dtypes: bool(5), float64(3), int64(1), object(11)\n",
            "memory usage: 108.2+ MB\n"
          ],
          "name": "stdout"
        }
      ]
    },
    {
      "cell_type": "code",
      "metadata": {
        "id": "1p5Lj9sUxBhg",
        "colab_type": "code",
        "colab": {
          "base_uri": "https://localhost:8080/",
          "height": 414
        },
        "outputId": "ecca5dfc-73e5-4c04-dc4c-5f5080370e68"
      },
      "source": [
        "sf.describe(include='all')"
      ],
      "execution_count": 5,
      "outputs": [
        {
          "output_type": "execute_result",
          "data": {
            "text/html": [
              "<div>\n",
              "<style scoped>\n",
              "    .dataframe tbody tr th:only-of-type {\n",
              "        vertical-align: middle;\n",
              "    }\n",
              "\n",
              "    .dataframe tbody tr th {\n",
              "        vertical-align: top;\n",
              "    }\n",
              "\n",
              "    .dataframe thead th {\n",
              "        text-align: right;\n",
              "    }\n",
              "</style>\n",
              "<table border=\"1\" class=\"dataframe\">\n",
              "  <thead>\n",
              "    <tr style=\"text-align: right;\">\n",
              "      <th></th>\n",
              "      <th>raw_row_number</th>\n",
              "      <th>date</th>\n",
              "      <th>time</th>\n",
              "      <th>location</th>\n",
              "      <th>lat</th>\n",
              "      <th>lng</th>\n",
              "      <th>district</th>\n",
              "      <th>subject_age</th>\n",
              "      <th>subject_race</th>\n",
              "      <th>subject_sex</th>\n",
              "      <th>type</th>\n",
              "      <th>arrest_made</th>\n",
              "      <th>citation_issued</th>\n",
              "      <th>warning_issued</th>\n",
              "      <th>outcome</th>\n",
              "      <th>contraband_found</th>\n",
              "      <th>search_conducted</th>\n",
              "      <th>search_vehicle</th>\n",
              "      <th>search_basis</th>\n",
              "      <th>reason_for_stop</th>\n",
              "    </tr>\n",
              "  </thead>\n",
              "  <tbody>\n",
              "    <tr>\n",
              "      <th>count</th>\n",
              "      <td>907761.000000</td>\n",
              "      <td>907761</td>\n",
              "      <td>907726</td>\n",
              "      <td>907718</td>\n",
              "      <td>906061.000000</td>\n",
              "      <td>906061.000000</td>\n",
              "      <td>855469</td>\n",
              "      <td>848723.000000</td>\n",
              "      <td>907761</td>\n",
              "      <td>907761</td>\n",
              "      <td>907761</td>\n",
              "      <td>907761</td>\n",
              "      <td>907761</td>\n",
              "      <td>907761</td>\n",
              "      <td>891946</td>\n",
              "      <td>53756</td>\n",
              "      <td>907761</td>\n",
              "      <td>907761</td>\n",
              "      <td>53756</td>\n",
              "      <td>905537</td>\n",
              "    </tr>\n",
              "    <tr>\n",
              "      <th>unique</th>\n",
              "      <td>NaN</td>\n",
              "      <td>3468</td>\n",
              "      <td>1440</td>\n",
              "      <td>313001</td>\n",
              "      <td>NaN</td>\n",
              "      <td>NaN</td>\n",
              "      <td>13</td>\n",
              "      <td>NaN</td>\n",
              "      <td>5</td>\n",
              "      <td>2</td>\n",
              "      <td>1</td>\n",
              "      <td>2</td>\n",
              "      <td>2</td>\n",
              "      <td>2</td>\n",
              "      <td>3</td>\n",
              "      <td>2</td>\n",
              "      <td>2</td>\n",
              "      <td>2</td>\n",
              "      <td>2</td>\n",
              "      <td>7</td>\n",
              "    </tr>\n",
              "    <tr>\n",
              "      <th>top</th>\n",
              "      <td>NaN</td>\n",
              "      <td>2009-03-20</td>\n",
              "      <td>23:00:00</td>\n",
              "      <td>FILLMORE/OFARRELL</td>\n",
              "      <td>NaN</td>\n",
              "      <td>NaN</td>\n",
              "      <td>H</td>\n",
              "      <td>NaN</td>\n",
              "      <td>white</td>\n",
              "      <td>male</td>\n",
              "      <td>vehicular</td>\n",
              "      <td>False</td>\n",
              "      <td>True</td>\n",
              "      <td>False</td>\n",
              "      <td>citation</td>\n",
              "      <td>False</td>\n",
              "      <td>False</td>\n",
              "      <td>False</td>\n",
              "      <td>other</td>\n",
              "      <td>Moving Violation</td>\n",
              "    </tr>\n",
              "    <tr>\n",
              "      <th>freq</th>\n",
              "      <td>NaN</td>\n",
              "      <td>631</td>\n",
              "      <td>6014</td>\n",
              "      <td>1252</td>\n",
              "      <td>NaN</td>\n",
              "      <td>NaN</td>\n",
              "      <td>117864</td>\n",
              "      <td>NaN</td>\n",
              "      <td>373414</td>\n",
              "      <td>641119</td>\n",
              "      <td>907761</td>\n",
              "      <td>895794</td>\n",
              "      <td>633508</td>\n",
              "      <td>661290</td>\n",
              "      <td>633508</td>\n",
              "      <td>45732</td>\n",
              "      <td>854005</td>\n",
              "      <td>854005</td>\n",
              "      <td>49028</td>\n",
              "      <td>565071</td>\n",
              "    </tr>\n",
              "    <tr>\n",
              "      <th>mean</th>\n",
              "      <td>453881.000000</td>\n",
              "      <td>NaN</td>\n",
              "      <td>NaN</td>\n",
              "      <td>NaN</td>\n",
              "      <td>37.762853</td>\n",
              "      <td>-122.429258</td>\n",
              "      <td>NaN</td>\n",
              "      <td>37.817622</td>\n",
              "      <td>NaN</td>\n",
              "      <td>NaN</td>\n",
              "      <td>NaN</td>\n",
              "      <td>NaN</td>\n",
              "      <td>NaN</td>\n",
              "      <td>NaN</td>\n",
              "      <td>NaN</td>\n",
              "      <td>NaN</td>\n",
              "      <td>NaN</td>\n",
              "      <td>NaN</td>\n",
              "      <td>NaN</td>\n",
              "      <td>NaN</td>\n",
              "    </tr>\n",
              "    <tr>\n",
              "      <th>std</th>\n",
              "      <td>262048.173191</td>\n",
              "      <td>NaN</td>\n",
              "      <td>NaN</td>\n",
              "      <td>NaN</td>\n",
              "      <td>0.036681</td>\n",
              "      <td>0.042171</td>\n",
              "      <td>NaN</td>\n",
              "      <td>13.631270</td>\n",
              "      <td>NaN</td>\n",
              "      <td>NaN</td>\n",
              "      <td>NaN</td>\n",
              "      <td>NaN</td>\n",
              "      <td>NaN</td>\n",
              "      <td>NaN</td>\n",
              "      <td>NaN</td>\n",
              "      <td>NaN</td>\n",
              "      <td>NaN</td>\n",
              "      <td>NaN</td>\n",
              "      <td>NaN</td>\n",
              "      <td>NaN</td>\n",
              "    </tr>\n",
              "    <tr>\n",
              "      <th>min</th>\n",
              "      <td>1.000000</td>\n",
              "      <td>NaN</td>\n",
              "      <td>NaN</td>\n",
              "      <td>NaN</td>\n",
              "      <td>36.038676</td>\n",
              "      <td>-123.767429</td>\n",
              "      <td>NaN</td>\n",
              "      <td>10.000000</td>\n",
              "      <td>NaN</td>\n",
              "      <td>NaN</td>\n",
              "      <td>NaN</td>\n",
              "      <td>NaN</td>\n",
              "      <td>NaN</td>\n",
              "      <td>NaN</td>\n",
              "      <td>NaN</td>\n",
              "      <td>NaN</td>\n",
              "      <td>NaN</td>\n",
              "      <td>NaN</td>\n",
              "      <td>NaN</td>\n",
              "      <td>NaN</td>\n",
              "    </tr>\n",
              "    <tr>\n",
              "      <th>25%</th>\n",
              "      <td>226941.000000</td>\n",
              "      <td>NaN</td>\n",
              "      <td>NaN</td>\n",
              "      <td>NaN</td>\n",
              "      <td>37.740649</td>\n",
              "      <td>-122.448294</td>\n",
              "      <td>NaN</td>\n",
              "      <td>27.000000</td>\n",
              "      <td>NaN</td>\n",
              "      <td>NaN</td>\n",
              "      <td>NaN</td>\n",
              "      <td>NaN</td>\n",
              "      <td>NaN</td>\n",
              "      <td>NaN</td>\n",
              "      <td>NaN</td>\n",
              "      <td>NaN</td>\n",
              "      <td>NaN</td>\n",
              "      <td>NaN</td>\n",
              "      <td>NaN</td>\n",
              "      <td>NaN</td>\n",
              "    </tr>\n",
              "    <tr>\n",
              "      <th>50%</th>\n",
              "      <td>453881.000000</td>\n",
              "      <td>NaN</td>\n",
              "      <td>NaN</td>\n",
              "      <td>NaN</td>\n",
              "      <td>37.770038</td>\n",
              "      <td>-122.421294</td>\n",
              "      <td>NaN</td>\n",
              "      <td>35.000000</td>\n",
              "      <td>NaN</td>\n",
              "      <td>NaN</td>\n",
              "      <td>NaN</td>\n",
              "      <td>NaN</td>\n",
              "      <td>NaN</td>\n",
              "      <td>NaN</td>\n",
              "      <td>NaN</td>\n",
              "      <td>NaN</td>\n",
              "      <td>NaN</td>\n",
              "      <td>NaN</td>\n",
              "      <td>NaN</td>\n",
              "      <td>NaN</td>\n",
              "    </tr>\n",
              "    <tr>\n",
              "      <th>75%</th>\n",
              "      <td>680821.000000</td>\n",
              "      <td>NaN</td>\n",
              "      <td>NaN</td>\n",
              "      <td>NaN</td>\n",
              "      <td>37.782614</td>\n",
              "      <td>-122.408425</td>\n",
              "      <td>NaN</td>\n",
              "      <td>47.000000</td>\n",
              "      <td>NaN</td>\n",
              "      <td>NaN</td>\n",
              "      <td>NaN</td>\n",
              "      <td>NaN</td>\n",
              "      <td>NaN</td>\n",
              "      <td>NaN</td>\n",
              "      <td>NaN</td>\n",
              "      <td>NaN</td>\n",
              "      <td>NaN</td>\n",
              "      <td>NaN</td>\n",
              "      <td>NaN</td>\n",
              "      <td>NaN</td>\n",
              "    </tr>\n",
              "    <tr>\n",
              "      <th>max</th>\n",
              "      <td>907761.000000</td>\n",
              "      <td>NaN</td>\n",
              "      <td>NaN</td>\n",
              "      <td>NaN</td>\n",
              "      <td>39.929646</td>\n",
              "      <td>-113.268151</td>\n",
              "      <td>NaN</td>\n",
              "      <td>100.000000</td>\n",
              "      <td>NaN</td>\n",
              "      <td>NaN</td>\n",
              "      <td>NaN</td>\n",
              "      <td>NaN</td>\n",
              "      <td>NaN</td>\n",
              "      <td>NaN</td>\n",
              "      <td>NaN</td>\n",
              "      <td>NaN</td>\n",
              "      <td>NaN</td>\n",
              "      <td>NaN</td>\n",
              "      <td>NaN</td>\n",
              "      <td>NaN</td>\n",
              "    </tr>\n",
              "  </tbody>\n",
              "</table>\n",
              "</div>"
            ],
            "text/plain": [
              "        raw_row_number        date  ... search_basis   reason_for_stop\n",
              "count    907761.000000      907761  ...        53756            905537\n",
              "unique             NaN        3468  ...            2                 7\n",
              "top                NaN  2009-03-20  ...        other  Moving Violation\n",
              "freq               NaN         631  ...        49028            565071\n",
              "mean     453881.000000         NaN  ...          NaN               NaN\n",
              "std      262048.173191         NaN  ...          NaN               NaN\n",
              "min           1.000000         NaN  ...          NaN               NaN\n",
              "25%      226941.000000         NaN  ...          NaN               NaN\n",
              "50%      453881.000000         NaN  ...          NaN               NaN\n",
              "75%      680821.000000         NaN  ...          NaN               NaN\n",
              "max      907761.000000         NaN  ...          NaN               NaN\n",
              "\n",
              "[11 rows x 20 columns]"
            ]
          },
          "metadata": {
            "tags": []
          },
          "execution_count": 5
        }
      ]
    },
    {
      "cell_type": "code",
      "metadata": {
        "id": "Qvum6afmxC7r",
        "colab_type": "code",
        "colab": {}
      },
      "source": [
        "pd.to_datetime(sf.date, infer_datetime_format=True)\n",
        "pd.to_datetime(sf.time, infer_datetime_format=True)"
      ],
      "execution_count": 0,
      "outputs": []
    },
    {
      "cell_type": "code",
      "metadata": {
        "id": "HwIAQkfFxWVS",
        "colab_type": "code",
        "colab": {}
      },
      "source": [
        "sf = sf.drop('raw_row_number', axis=1)"
      ],
      "execution_count": 0,
      "outputs": []
    },
    {
      "cell_type": "code",
      "metadata": {
        "id": "M4Q6hhI-xnLy",
        "colab_type": "code",
        "colab": {
          "base_uri": "https://localhost:8080/",
          "height": 86
        },
        "outputId": "340b0fcb-8a60-4aa7-df1a-418bd1ad6143"
      },
      "source": [
        "sf.reason_for_stop.unique()"
      ],
      "execution_count": 8,
      "outputs": [
        {
          "output_type": "execute_result",
          "data": {
            "text/plain": [
              "array(['Moving Violation', 'MPC Violation',\n",
              "       'Mechanical or Non-Moving Violation (V.C.)', 'DUI Check',\n",
              "       'BOLO/APB/Warrant', 'Assistance to Motorist', nan,\n",
              "       'Traffic Collision'], dtype=object)"
            ]
          },
          "metadata": {
            "tags": []
          },
          "execution_count": 8
        }
      ]
    },
    {
      "cell_type": "code",
      "metadata": {
        "id": "XkXeuKPpx8Lx",
        "colab_type": "code",
        "colab": {
          "base_uri": "https://localhost:8080/",
          "height": 52
        },
        "outputId": "64ce0712-0644-4cf1-bcf2-3e292cfc0e89"
      },
      "source": [
        "sf.subject_race.unique()\n"
      ],
      "execution_count": 9,
      "outputs": [
        {
          "output_type": "execute_result",
          "data": {
            "text/plain": [
              "array(['asian/pacific islander', 'other/unknown', 'hispanic', 'black',\n",
              "       'white'], dtype=object)"
            ]
          },
          "metadata": {
            "tags": []
          },
          "execution_count": 9
        }
      ]
    },
    {
      "cell_type": "code",
      "metadata": {
        "id": "7WQpXdO8yELx",
        "colab_type": "code",
        "colab": {
          "base_uri": "https://localhost:8080/",
          "height": 86
        },
        "outputId": "d5d0c4a5-fcb1-475b-9a31-999aeaa9b575"
      },
      "source": [
        "sf['outcome'].value_counts(normalize=True)"
      ],
      "execution_count": 10,
      "outputs": [
        {
          "output_type": "execute_result",
          "data": {
            "text/plain": [
              "citation    0.710254\n",
              "warning     0.276330\n",
              "arrest      0.013417\n",
              "Name: outcome, dtype: float64"
            ]
          },
          "metadata": {
            "tags": []
          },
          "execution_count": 10
        }
      ]
    },
    {
      "cell_type": "code",
      "metadata": {
        "id": "iCieUsUuzKGc",
        "colab_type": "code",
        "colab": {
          "base_uri": "https://localhost:8080/",
          "height": 104
        },
        "outputId": "381432a3-5c46-4a00-8da6-e04599604884"
      },
      "source": [
        "sf.columns"
      ],
      "execution_count": 11,
      "outputs": [
        {
          "output_type": "execute_result",
          "data": {
            "text/plain": [
              "Index(['date', 'time', 'location', 'lat', 'lng', 'district', 'subject_age',\n",
              "       'subject_race', 'subject_sex', 'type', 'arrest_made', 'citation_issued',\n",
              "       'warning_issued', 'outcome', 'contraband_found', 'search_conducted',\n",
              "       'search_vehicle', 'search_basis', 'reason_for_stop'],\n",
              "      dtype='object')"
            ]
          },
          "metadata": {
            "tags": []
          },
          "execution_count": 11
        }
      ]
    },
    {
      "cell_type": "code",
      "metadata": {
        "id": "mVGzmtQ_1BU9",
        "colab_type": "code",
        "colab": {
          "base_uri": "https://localhost:8080/",
          "height": 364
        },
        "outputId": "9cdb679e-caf0-479f-fad3-8026c5c8cfc9"
      },
      "source": [
        "sf.dtypes"
      ],
      "execution_count": 12,
      "outputs": [
        {
          "output_type": "execute_result",
          "data": {
            "text/plain": [
              "date                 object\n",
              "time                 object\n",
              "location             object\n",
              "lat                 float64\n",
              "lng                 float64\n",
              "district             object\n",
              "subject_age         float64\n",
              "subject_race         object\n",
              "subject_sex          object\n",
              "type                 object\n",
              "arrest_made            bool\n",
              "citation_issued        bool\n",
              "warning_issued         bool\n",
              "outcome              object\n",
              "contraband_found     object\n",
              "search_conducted       bool\n",
              "search_vehicle         bool\n",
              "search_basis         object\n",
              "reason_for_stop      object\n",
              "dtype: object"
            ]
          },
          "metadata": {
            "tags": []
          },
          "execution_count": 12
        }
      ]
    },
    {
      "cell_type": "code",
      "metadata": {
        "id": "m3Kb53H3zMXr",
        "colab_type": "code",
        "colab": {
          "base_uri": "https://localhost:8080/",
          "height": 121
        },
        "outputId": "2fb97bac-1f79-4f57-f3ee-072c22b4d815"
      },
      "source": [
        "sf['subject_race'].value_counts()"
      ],
      "execution_count": 13,
      "outputs": [
        {
          "output_type": "execute_result",
          "data": {
            "text/plain": [
              "white                     373414\n",
              "asian/pacific islander    158172\n",
              "black                     152632\n",
              "hispanic                  116397\n",
              "other/unknown             107146\n",
              "Name: subject_race, dtype: int64"
            ]
          },
          "metadata": {
            "tags": []
          },
          "execution_count": 13
        }
      ]
    },
    {
      "cell_type": "code",
      "metadata": {
        "id": "RVUGDllEzdjJ",
        "colab_type": "code",
        "colab": {
          "base_uri": "https://localhost:8080/",
          "height": 69
        },
        "outputId": "937136ed-23ba-4fa0-a8ad-0b87ed92341b"
      },
      "source": [
        "sf['subject_sex'].value_counts()"
      ],
      "execution_count": 14,
      "outputs": [
        {
          "output_type": "execute_result",
          "data": {
            "text/plain": [
              "male      641119\n",
              "female    266642\n",
              "Name: subject_sex, dtype: int64"
            ]
          },
          "metadata": {
            "tags": []
          },
          "execution_count": 14
        }
      ]
    },
    {
      "cell_type": "code",
      "metadata": {
        "id": "cvIhFaidziDR",
        "colab_type": "code",
        "colab": {}
      },
      "source": [
        "#sf['subject_age'].value_counts(normalize=True)"
      ],
      "execution_count": 0,
      "outputs": []
    },
    {
      "cell_type": "code",
      "metadata": {
        "id": "lZpcsjrUzk4p",
        "colab_type": "code",
        "colab": {
          "base_uri": "https://localhost:8080/",
          "height": 506
        },
        "outputId": "8ad09013-3965-4453-8470-b97092233bb2"
      },
      "source": [
        "fig, ax = plt.subplots(figsize=(20,8))\n",
        "ax.set_xlim(15, 70)\n",
        "for race in sf['subject_race'].unique():\n",
        "    s = sf[sf['subject_race'] == race]['subject_age']\n",
        "    s.plot.kde(ax=ax, label=race)\n",
        "ax.legend();\n",
        "\n",
        "# fig.savefig('images/race_age_dist.png', bbox_inches='tight')\n",
        "\n"
      ],
      "execution_count": 16,
      "outputs": [
        {
          "output_type": "display_data",
          "data": {
            "image/png": "[encoded data removed]",
            "text/plain": [
              "<Figure size 1440x576 with 1 Axes>"
            ]
          },
          "metadata": {
            "tags": []
          }
        }
      ]
    },
    {
      "cell_type": "code",
      "metadata": {
        "id": "QAP3rQbkz7Eb",
        "colab_type": "code",
        "colab": {
          "base_uri": "https://localhost:8080/",
          "height": 139
        },
        "outputId": "3677af76-ae08-4264-d5c6-bb1c6cd62587"
      },
      "source": [
        "def compute_outcome_stats(df):\n",
        "    \"\"\"Compute statistics regarding the relative quanties of arrests, warnings, and citations\"\"\"\n",
        "    n_total = len(df)\n",
        "    n_warnings = len(df[df['outcome'] == 'warning'])\n",
        "    n_citations = len(df[df['outcome'] == 'citation'])\n",
        "    n_arrests = len(df[df['outcome'] == 'arrest'])\n",
        "    citations_per_warning = n_citations / n_warnings\n",
        "    arrest_rate = n_arrests / n_total\n",
        "    \n",
        "    return(pd.Series(data = { \n",
        "        'n_total': n_total,\n",
        "        'n_warnings': n_warnings,\n",
        "        'n_citations': n_citations,\n",
        "        'n_arrests': n_arrests,\n",
        "        'citations_per_warning': citations_per_warning,\n",
        "        'arrest_rate': arrest_rate\n",
        "    }))\n",
        "compute_outcome_stats(sf)"
      ],
      "execution_count": 17,
      "outputs": [
        {
          "output_type": "execute_result",
          "data": {
            "text/plain": [
              "n_total                  907761.000000\n",
              "n_warnings               246471.000000\n",
              "n_citations              633508.000000\n",
              "n_arrests                 11967.000000\n",
              "citations_per_warning         2.570315\n",
              "arrest_rate                   0.013183\n",
              "dtype: float64"
            ]
          },
          "metadata": {
            "tags": []
          },
          "execution_count": 17
        }
      ]
    },
    {
      "cell_type": "code",
      "metadata": {
        "id": "qRjFfYPQ0Qfx",
        "colab_type": "code",
        "colab": {
          "base_uri": "https://localhost:8080/",
          "height": 143
        },
        "outputId": "ede6ffbe-b8c3-414d-ca4d-511f4458c6c9"
      },
      "source": [
        "sf.groupby('subject_sex').apply(compute_outcome_stats)"
      ],
      "execution_count": 18,
      "outputs": [
        {
          "output_type": "execute_result",
          "data": {
            "text/html": [
              "<div>\n",
              "<style scoped>\n",
              "    .dataframe tbody tr th:only-of-type {\n",
              "        vertical-align: middle;\n",
              "    }\n",
              "\n",
              "    .dataframe tbody tr th {\n",
              "        vertical-align: top;\n",
              "    }\n",
              "\n",
              "    .dataframe thead th {\n",
              "        text-align: right;\n",
              "    }\n",
              "</style>\n",
              "<table border=\"1\" class=\"dataframe\">\n",
              "  <thead>\n",
              "    <tr style=\"text-align: right;\">\n",
              "      <th></th>\n",
              "      <th>n_total</th>\n",
              "      <th>n_warnings</th>\n",
              "      <th>n_citations</th>\n",
              "      <th>n_arrests</th>\n",
              "      <th>citations_per_warning</th>\n",
              "      <th>arrest_rate</th>\n",
              "    </tr>\n",
              "    <tr>\n",
              "      <th>subject_sex</th>\n",
              "      <th></th>\n",
              "      <th></th>\n",
              "      <th></th>\n",
              "      <th></th>\n",
              "      <th></th>\n",
              "      <th></th>\n",
              "    </tr>\n",
              "  </thead>\n",
              "  <tbody>\n",
              "    <tr>\n",
              "      <th>female</th>\n",
              "      <td>266642.0</td>\n",
              "      <td>72641.0</td>\n",
              "      <td>188238.0</td>\n",
              "      <td>2531.0</td>\n",
              "      <td>2.591346</td>\n",
              "      <td>0.009492</td>\n",
              "    </tr>\n",
              "    <tr>\n",
              "      <th>male</th>\n",
              "      <td>641119.0</td>\n",
              "      <td>173830.0</td>\n",
              "      <td>445270.0</td>\n",
              "      <td>9436.0</td>\n",
              "      <td>2.561526</td>\n",
              "      <td>0.014718</td>\n",
              "    </tr>\n",
              "  </tbody>\n",
              "</table>\n",
              "</div>"
            ],
            "text/plain": [
              "              n_total  n_warnings  ...  citations_per_warning  arrest_rate\n",
              "subject_sex                        ...                                    \n",
              "female       266642.0     72641.0  ...               2.591346     0.009492\n",
              "male         641119.0    173830.0  ...               2.561526     0.014718\n",
              "\n",
              "[2 rows x 6 columns]"
            ]
          },
          "metadata": {
            "tags": []
          },
          "execution_count": 18
        }
      ]
    },
    {
      "cell_type": "code",
      "metadata": {
        "id": "29RhXLCh0mwU",
        "colab_type": "code",
        "colab": {
          "base_uri": "https://localhost:8080/",
          "height": 237
        },
        "outputId": "5dd81a63-30e7-4a23-b824-5f38dae0cc8b"
      },
      "source": [
        "sf.groupby('subject_race').apply(compute_outcome_stats)"
      ],
      "execution_count": 19,
      "outputs": [
        {
          "output_type": "execute_result",
          "data": {
            "text/html": [
              "<div>\n",
              "<style scoped>\n",
              "    .dataframe tbody tr th:only-of-type {\n",
              "        vertical-align: middle;\n",
              "    }\n",
              "\n",
              "    .dataframe tbody tr th {\n",
              "        vertical-align: top;\n",
              "    }\n",
              "\n",
              "    .dataframe thead th {\n",
              "        text-align: right;\n",
              "    }\n",
              "</style>\n",
              "<table border=\"1\" class=\"dataframe\">\n",
              "  <thead>\n",
              "    <tr style=\"text-align: right;\">\n",
              "      <th></th>\n",
              "      <th>n_total</th>\n",
              "      <th>n_warnings</th>\n",
              "      <th>n_citations</th>\n",
              "      <th>n_arrests</th>\n",
              "      <th>citations_per_warning</th>\n",
              "      <th>arrest_rate</th>\n",
              "    </tr>\n",
              "    <tr>\n",
              "      <th>subject_race</th>\n",
              "      <th></th>\n",
              "      <th></th>\n",
              "      <th></th>\n",
              "      <th></th>\n",
              "      <th></th>\n",
              "      <th></th>\n",
              "    </tr>\n",
              "  </thead>\n",
              "  <tbody>\n",
              "    <tr>\n",
              "      <th>asian/pacific islander</th>\n",
              "      <td>158172.0</td>\n",
              "      <td>32120.0</td>\n",
              "      <td>123852.0</td>\n",
              "      <td>1222.0</td>\n",
              "      <td>3.855915</td>\n",
              "      <td>0.007726</td>\n",
              "    </tr>\n",
              "    <tr>\n",
              "      <th>black</th>\n",
              "      <td>152632.0</td>\n",
              "      <td>60904.0</td>\n",
              "      <td>83874.0</td>\n",
              "      <td>3554.0</td>\n",
              "      <td>1.377151</td>\n",
              "      <td>0.023285</td>\n",
              "    </tr>\n",
              "    <tr>\n",
              "      <th>hispanic</th>\n",
              "      <td>116397.0</td>\n",
              "      <td>31528.0</td>\n",
              "      <td>77590.0</td>\n",
              "      <td>2295.0</td>\n",
              "      <td>2.460987</td>\n",
              "      <td>0.019717</td>\n",
              "    </tr>\n",
              "    <tr>\n",
              "      <th>other/unknown</th>\n",
              "      <td>107146.0</td>\n",
              "      <td>22881.0</td>\n",
              "      <td>81658.0</td>\n",
              "      <td>914.0</td>\n",
              "      <td>3.568813</td>\n",
              "      <td>0.008530</td>\n",
              "    </tr>\n",
              "    <tr>\n",
              "      <th>white</th>\n",
              "      <td>373414.0</td>\n",
              "      <td>99038.0</td>\n",
              "      <td>266534.0</td>\n",
              "      <td>3982.0</td>\n",
              "      <td>2.691230</td>\n",
              "      <td>0.010664</td>\n",
              "    </tr>\n",
              "  </tbody>\n",
              "</table>\n",
              "</div>"
            ],
            "text/plain": [
              "                         n_total  ...  arrest_rate\n",
              "subject_race                      ...             \n",
              "asian/pacific islander  158172.0  ...     0.007726\n",
              "black                   152632.0  ...     0.023285\n",
              "hispanic                116397.0  ...     0.019717\n",
              "other/unknown           107146.0  ...     0.008530\n",
              "white                   373414.0  ...     0.010664\n",
              "\n",
              "[5 rows x 6 columns]"
            ]
          },
          "metadata": {
            "tags": []
          },
          "execution_count": 19
        }
      ]
    },
    {
      "cell_type": "code",
      "metadata": {
        "id": "EoI32MiB0zg1",
        "colab_type": "code",
        "colab": {
          "base_uri": "https://localhost:8080/",
          "height": 536
        },
        "outputId": "3668bc65-952f-4950-ded3-67288c2157a0"
      },
      "source": [
        "figsize=(20,8)\n",
        "race_agg = sf.groupby(['subject_race']).apply(compute_outcome_stats)\n",
        "fig, axes = plt.subplots(nrows=2, ncols=1, figsize=figsize)\n",
        "race_agg['citations_per_warning'].plot.barh(ax=axes[0], figsize=figsize, title=\"Citation Rate By Race\")\n",
        "race_agg['arrest_rate'].plot.barh(ax=axes[1], figsize=figsize, title='Arrest Rate By Race');\n",
        "\n",
        "# fig.savefig('images/citations_and_arrests_by_race.png', bbox_inches='tight')\n",
        "\n"
      ],
      "execution_count": 20,
      "outputs": [
        {
          "output_type": "execute_result",
          "data": {
            "text/plain": [
              "<matplotlib.axes._subplots.AxesSubplot at 0x7f49062af780>"
            ]
          },
          "metadata": {
            "tags": []
          },
          "execution_count": 20
        },
        {
          "output_type": "display_data",
          "data": {
            "image/png": "[encoded data removed]",
            "text/plain": [
              "<Figure size 1440x576 with 2 Axes>"
            ]
          },
          "metadata": {
            "tags": []
          }
        }
      ]
    },
    {
      "cell_type": "code",
      "metadata": {
        "id": "rIv5j3eT2URV",
        "colab_type": "code",
        "colab": {
          "base_uri": "https://localhost:8080/",
          "height": 104
        },
        "outputId": "77347b16-3e79-43a4-9dac-65b70178acf7"
      },
      "source": [
        "sf.columns"
      ],
      "execution_count": 21,
      "outputs": [
        {
          "output_type": "execute_result",
          "data": {
            "text/plain": [
              "Index(['date', 'time', 'location', 'lat', 'lng', 'district', 'subject_age',\n",
              "       'subject_race', 'subject_sex', 'type', 'arrest_made', 'citation_issued',\n",
              "       'warning_issued', 'outcome', 'contraband_found', 'search_conducted',\n",
              "       'search_vehicle', 'search_basis', 'reason_for_stop'],\n",
              "      dtype='object')"
            ]
          },
          "metadata": {
            "tags": []
          },
          "execution_count": 21
        }
      ]
    },
    {
      "cell_type": "code",
      "metadata": {
        "id": "ksr43PNy2Cho",
        "colab_type": "code",
        "colab": {
          "base_uri": "https://localhost:8080/",
          "height": 275
        },
        "outputId": "eb67c4b1-b59d-4f0f-f527-22db31dbcd55"
      },
      "source": [
        "rva = sf.groupby(['subject_race','search_conducted']).apply(compute_outcome_stats)\n",
        "\n",
        "rwa = pd.DataFrame(rva)\n",
        "\n",
        "(rwa.loc[:]\n",
        "    .style\n",
        "    .background_gradient(cmap='inferno', low=0, high=.8)\n",
        "    .highlight_null('red'))"
      ],
      "execution_count": 68,
      "outputs": [
        {
          "output_type": "execute_result",
          "data": {
            "text/html": [
              "<style  type=\"text/css\" >\n",
              "    #T_28196988_b2ac_11e9_8ad5_0242ac1c0002row0_col0 {\n",
              "            background-color:  #510e6c;\n",
              "            color:  #f1f1f1;\n",
              "            : ;\n",
              "        }    #T_28196988_b2ac_11e9_8ad5_0242ac1c0002row0_col1 {\n",
              "            background-color:  #380962;\n",
              "            color:  #f1f1f1;\n",
              "            : ;\n",
              "        }    #T_28196988_b2ac_11e9_8ad5_0242ac1c0002row0_col2 {\n",
              "            background-color:  #5a116e;\n",
              "            color:  #f1f1f1;\n",
              "            : ;\n",
              "        }    #T_28196988_b2ac_11e9_8ad5_0242ac1c0002row0_col3 {\n",
              "            background-color:  #0b0724;\n",
              "            color:  #f1f1f1;\n",
              "            : ;\n",
              "        }    #T_28196988_b2ac_11e9_8ad5_0242ac1c0002row0_col4 {\n",
              "            background-color:  #cf4446;\n",
              "            color:  #f1f1f1;\n",
              "            : ;\n",
              "        }    #T_28196988_b2ac_11e9_8ad5_0242ac1c0002row0_col5 {\n",
              "            background-color:  #000004;\n",
              "            color:  #f1f1f1;\n",
              "            : ;\n",
              "        }    #T_28196988_b2ac_11e9_8ad5_0242ac1c0002row1_col0 {\n",
              "            background-color:  #000004;\n",
              "            color:  #f1f1f1;\n",
              "            : ;\n",
              "        }    #T_28196988_b2ac_11e9_8ad5_0242ac1c0002row1_col1 {\n",
              "            background-color:  #000004;\n",
              "            color:  #f1f1f1;\n",
              "            : ;\n",
              "        }    #T_28196988_b2ac_11e9_8ad5_0242ac1c0002row1_col2 {\n",
              "            background-color:  #000004;\n",
              "            color:  #f1f1f1;\n",
              "            : ;\n",
              "        }    #T_28196988_b2ac_11e9_8ad5_0242ac1c0002row1_col3 {\n",
              "            background-color:  #0a0722;\n",
              "            color:  #f1f1f1;\n",
              "            : ;\n",
              "        }    #T_28196988_b2ac_11e9_8ad5_0242ac1c0002row1_col4 {\n",
              "            background-color:  #61136e;\n",
              "            color:  #f1f1f1;\n",
              "            : ;\n",
              "        }    #T_28196988_b2ac_11e9_8ad5_0242ac1c0002row1_col5 {\n",
              "            background-color:  #cf4446;\n",
              "            color:  #f1f1f1;\n",
              "            : ;\n",
              "        }    #T_28196988_b2ac_11e9_8ad5_0242ac1c0002row2_col0 {\n",
              "            background-color:  #3e0966;\n",
              "            color:  #f1f1f1;\n",
              "            : ;\n",
              "        }    #T_28196988_b2ac_11e9_8ad5_0242ac1c0002row2_col1 {\n",
              "            background-color:  #6c186e;\n",
              "            color:  #f1f1f1;\n",
              "            : ;\n",
              "        }    #T_28196988_b2ac_11e9_8ad5_0242ac1c0002row2_col2 {\n",
              "            background-color:  #2d0b59;\n",
              "            color:  #f1f1f1;\n",
              "            : ;\n",
              "        }    #T_28196988_b2ac_11e9_8ad5_0242ac1c0002row2_col3 {\n",
              "            background-color:  #2b0b57;\n",
              "            color:  #f1f1f1;\n",
              "            : ;\n",
              "        }    #T_28196988_b2ac_11e9_8ad5_0242ac1c0002row2_col4 {\n",
              "            background-color:  #02020e;\n",
              "            color:  #f1f1f1;\n",
              "            : ;\n",
              "        }    #T_28196988_b2ac_11e9_8ad5_0242ac1c0002row2_col5 {\n",
              "            background-color:  #010106;\n",
              "            color:  #f1f1f1;\n",
              "            : ;\n",
              "        }    #T_28196988_b2ac_11e9_8ad5_0242ac1c0002row3_col0 {\n",
              "            background-color:  #040312;\n",
              "            color:  #f1f1f1;\n",
              "            : ;\n",
              "        }    #T_28196988_b2ac_11e9_8ad5_0242ac1c0002row3_col1 {\n",
              "            background-color:  #060419;\n",
              "            color:  #f1f1f1;\n",
              "            : ;\n",
              "        }    #T_28196988_b2ac_11e9_8ad5_0242ac1c0002row3_col2 {\n",
              "            background-color:  #02010a;\n",
              "            color:  #f1f1f1;\n",
              "            : ;\n",
              "        }    #T_28196988_b2ac_11e9_8ad5_0242ac1c0002row3_col3 {\n",
              "            background-color:  #cf4446;\n",
              "            color:  #f1f1f1;\n",
              "            : ;\n",
              "        }    #T_28196988_b2ac_11e9_8ad5_0242ac1c0002row3_col4 {\n",
              "            background-color:  #000004;\n",
              "            color:  #f1f1f1;\n",
              "            : ;\n",
              "        }    #T_28196988_b2ac_11e9_8ad5_0242ac1c0002row3_col5 {\n",
              "            background-color:  #65156e;\n",
              "            color:  #f1f1f1;\n",
              "            : ;\n",
              "        }    #T_28196988_b2ac_11e9_8ad5_0242ac1c0002row4_col0 {\n",
              "            background-color:  #2f0a5b;\n",
              "            color:  #f1f1f1;\n",
              "            : ;\n",
              "        }    #T_28196988_b2ac_11e9_8ad5_0242ac1c0002row4_col1 {\n",
              "            background-color:  #320a5e;\n",
              "            color:  #f1f1f1;\n",
              "            : ;\n",
              "        }    #T_28196988_b2ac_11e9_8ad5_0242ac1c0002row4_col2 {\n",
              "            background-color:  #2b0b57;\n",
              "            color:  #f1f1f1;\n",
              "            : ;\n",
              "        }    #T_28196988_b2ac_11e9_8ad5_0242ac1c0002row4_col3 {\n",
              "            background-color:  #210c4a;\n",
              "            color:  #f1f1f1;\n",
              "            : ;\n",
              "        }    #T_28196988_b2ac_11e9_8ad5_0242ac1c0002row4_col4 {\n",
              "            background-color:  #57106e;\n",
              "            color:  #f1f1f1;\n",
              "            : ;\n",
              "        }    #T_28196988_b2ac_11e9_8ad5_0242ac1c0002row4_col5 {\n",
              "            background-color:  #010108;\n",
              "            color:  #f1f1f1;\n",
              "            : ;\n",
              "        }    #T_28196988_b2ac_11e9_8ad5_0242ac1c0002row5_col0 {\n",
              "            background-color:  #010108;\n",
              "            color:  #f1f1f1;\n",
              "            : ;\n",
              "        }    #T_28196988_b2ac_11e9_8ad5_0242ac1c0002row5_col1 {\n",
              "            background-color:  #010106;\n",
              "            color:  #f1f1f1;\n",
              "            : ;\n",
              "        }    #T_28196988_b2ac_11e9_8ad5_0242ac1c0002row5_col2 {\n",
              "            background-color:  #010106;\n",
              "            color:  #f1f1f1;\n",
              "            : ;\n",
              "        }    #T_28196988_b2ac_11e9_8ad5_0242ac1c0002row5_col3 {\n",
              "            background-color:  #5c126e;\n",
              "            color:  #f1f1f1;\n",
              "            : ;\n",
              "        }    #T_28196988_b2ac_11e9_8ad5_0242ac1c0002row5_col4 {\n",
              "            background-color:  #64156e;\n",
              "            color:  #f1f1f1;\n",
              "            : ;\n",
              "        }    #T_28196988_b2ac_11e9_8ad5_0242ac1c0002row5_col5 {\n",
              "            background-color:  #751b6e;\n",
              "            color:  #f1f1f1;\n",
              "            : ;\n",
              "        }    #T_28196988_b2ac_11e9_8ad5_0242ac1c0002row6_col0 {\n",
              "            background-color:  #2d0b59;\n",
              "            color:  #f1f1f1;\n",
              "            : ;\n",
              "        }    #T_28196988_b2ac_11e9_8ad5_0242ac1c0002row6_col1 {\n",
              "            background-color:  #1f0c48;\n",
              "            color:  #f1f1f1;\n",
              "            : ;\n",
              "        }    #T_28196988_b2ac_11e9_8ad5_0242ac1c0002row6_col2 {\n",
              "            background-color:  #340a5f;\n",
              "            color:  #f1f1f1;\n",
              "            : ;\n",
              "        }    #T_28196988_b2ac_11e9_8ad5_0242ac1c0002row6_col3 {\n",
              "            background-color:  #000004;\n",
              "            color:  #f1f1f1;\n",
              "            : ;\n",
              "        }    #T_28196988_b2ac_11e9_8ad5_0242ac1c0002row6_col4 {\n",
              "            background-color:  #ba3655;\n",
              "            color:  #f1f1f1;\n",
              "            : ;\n",
              "        }    #T_28196988_b2ac_11e9_8ad5_0242ac1c0002row6_col5 {\n",
              "            background-color:  #000004;\n",
              "            color:  #f1f1f1;\n",
              "            : ;\n",
              "        }    #T_28196988_b2ac_11e9_8ad5_0242ac1c0002row7_col0 {\n",
              "            background-color:  #000004;\n",
              "            color:  #f1f1f1;\n",
              "            : ;\n",
              "        }    #T_28196988_b2ac_11e9_8ad5_0242ac1c0002row7_col1 {\n",
              "            background-color:  #000004;\n",
              "            color:  #f1f1f1;\n",
              "            : ;\n",
              "        }    #T_28196988_b2ac_11e9_8ad5_0242ac1c0002row7_col2 {\n",
              "            background-color:  #000004;\n",
              "            color:  #f1f1f1;\n",
              "            : ;\n",
              "        }    #T_28196988_b2ac_11e9_8ad5_0242ac1c0002row7_col3 {\n",
              "            background-color:  #07051b;\n",
              "            color:  #f1f1f1;\n",
              "            : ;\n",
              "        }    #T_28196988_b2ac_11e9_8ad5_0242ac1c0002row7_col4 {\n",
              "            background-color:  #420a68;\n",
              "            color:  #f1f1f1;\n",
              "            : ;\n",
              "        }    #T_28196988_b2ac_11e9_8ad5_0242ac1c0002row7_col5 {\n",
              "            background-color:  #8f2469;\n",
              "            color:  #f1f1f1;\n",
              "            : ;\n",
              "        }    #T_28196988_b2ac_11e9_8ad5_0242ac1c0002row8_col0 {\n",
              "            background-color:  #cf4446;\n",
              "            color:  #f1f1f1;\n",
              "            : ;\n",
              "        }    #T_28196988_b2ac_11e9_8ad5_0242ac1c0002row8_col1 {\n",
              "            background-color:  #cf4446;\n",
              "            color:  #f1f1f1;\n",
              "            : ;\n",
              "        }    #T_28196988_b2ac_11e9_8ad5_0242ac1c0002row8_col2 {\n",
              "            background-color:  #cf4446;\n",
              "            color:  #f1f1f1;\n",
              "            : ;\n",
              "        }    #T_28196988_b2ac_11e9_8ad5_0242ac1c0002row8_col3 {\n",
              "            background-color:  #8c2369;\n",
              "            color:  #f1f1f1;\n",
              "            : ;\n",
              "        }    #T_28196988_b2ac_11e9_8ad5_0242ac1c0002row8_col4 {\n",
              "            background-color:  #6c186e;\n",
              "            color:  #f1f1f1;\n",
              "            : ;\n",
              "        }    #T_28196988_b2ac_11e9_8ad5_0242ac1c0002row8_col5 {\n",
              "            background-color:  #010005;\n",
              "            color:  #f1f1f1;\n",
              "            : ;\n",
              "        }    #T_28196988_b2ac_11e9_8ad5_0242ac1c0002row9_col0 {\n",
              "            background-color:  #010108;\n",
              "            color:  #f1f1f1;\n",
              "            : ;\n",
              "        }    #T_28196988_b2ac_11e9_8ad5_0242ac1c0002row9_col1 {\n",
              "            background-color:  #010106;\n",
              "            color:  #f1f1f1;\n",
              "            : ;\n",
              "        }    #T_28196988_b2ac_11e9_8ad5_0242ac1c0002row9_col2 {\n",
              "            background-color:  #010106;\n",
              "            color:  #f1f1f1;\n",
              "            : ;\n",
              "        }    #T_28196988_b2ac_11e9_8ad5_0242ac1c0002row9_col3 {\n",
              "            background-color:  #a02a63;\n",
              "            color:  #f1f1f1;\n",
              "            : ;\n",
              "        }    #T_28196988_b2ac_11e9_8ad5_0242ac1c0002row9_col4 {\n",
              "            background-color:  #520e6d;\n",
              "            color:  #f1f1f1;\n",
              "            : ;\n",
              "        }    #T_28196988_b2ac_11e9_8ad5_0242ac1c0002row9_col5 {\n",
              "            background-color:  #b0315b;\n",
              "            color:  #f1f1f1;\n",
              "            : ;\n",
              "        }</style><table id=\"T_28196988_b2ac_11e9_8ad5_0242ac1c0002\" ><thead>    <tr>        <th class=\"blank\" ></th>        <th class=\"blank level0\" ></th>        <th class=\"col_heading level0 col0\" >n_total</th>        <th class=\"col_heading level0 col1\" >n_warnings</th>        <th class=\"col_heading level0 col2\" >n_citations</th>        <th class=\"col_heading level0 col3\" >n_arrests</th>        <th class=\"col_heading level0 col4\" >citations_per_warning</th>        <th class=\"col_heading level0 col5\" >arrest_rate</th>    </tr>    <tr>        <th class=\"index_name level0\" >subject_race</th>        <th class=\"index_name level1\" >search_conducted</th>        <th class=\"blank\" ></th>        <th class=\"blank\" ></th>        <th class=\"blank\" ></th>        <th class=\"blank\" ></th>        <th class=\"blank\" ></th>        <th class=\"blank\" ></th>    </tr></thead><tbody>\n",
              "                <tr>\n",
              "                        <th id=\"T_28196988_b2ac_11e9_8ad5_0242ac1c0002level0_row0\" class=\"row_heading level0 row0\" rowspan=2>asian/pacific islander</th>\n",
              "                        <th id=\"T_28196988_b2ac_11e9_8ad5_0242ac1c0002level1_row0\" class=\"row_heading level1 row0\" >False</th>\n",
              "                        <td id=\"T_28196988_b2ac_11e9_8ad5_0242ac1c0002row0_col0\" class=\"data row0 col0\" >155293</td>\n",
              "                        <td id=\"T_28196988_b2ac_11e9_8ad5_0242ac1c0002row0_col1\" class=\"data row0 col1\" >31574</td>\n",
              "                        <td id=\"T_28196988_b2ac_11e9_8ad5_0242ac1c0002row0_col2\" class=\"data row0 col2\" >122446</td>\n",
              "                        <td id=\"T_28196988_b2ac_11e9_8ad5_0242ac1c0002row0_col3\" class=\"data row0 col3\" >622</td>\n",
              "                        <td id=\"T_28196988_b2ac_11e9_8ad5_0242ac1c0002row0_col4\" class=\"data row0 col4\" >3.87806</td>\n",
              "                        <td id=\"T_28196988_b2ac_11e9_8ad5_0242ac1c0002row0_col5\" class=\"data row0 col5\" >0.00400533</td>\n",
              "            </tr>\n",
              "            <tr>\n",
              "                                <th id=\"T_28196988_b2ac_11e9_8ad5_0242ac1c0002level1_row1\" class=\"row_heading level1 row1\" >True</th>\n",
              "                        <td id=\"T_28196988_b2ac_11e9_8ad5_0242ac1c0002row1_col0\" class=\"data row1 col0\" >2879</td>\n",
              "                        <td id=\"T_28196988_b2ac_11e9_8ad5_0242ac1c0002row1_col1\" class=\"data row1 col1\" >546</td>\n",
              "                        <td id=\"T_28196988_b2ac_11e9_8ad5_0242ac1c0002row1_col2\" class=\"data row1 col2\" >1406</td>\n",
              "                        <td id=\"T_28196988_b2ac_11e9_8ad5_0242ac1c0002row1_col3\" class=\"data row1 col3\" >600</td>\n",
              "                        <td id=\"T_28196988_b2ac_11e9_8ad5_0242ac1c0002row1_col4\" class=\"data row1 col4\" >2.57509</td>\n",
              "                        <td id=\"T_28196988_b2ac_11e9_8ad5_0242ac1c0002row1_col5\" class=\"data row1 col5\" >0.208406</td>\n",
              "            </tr>\n",
              "            <tr>\n",
              "                        <th id=\"T_28196988_b2ac_11e9_8ad5_0242ac1c0002level0_row2\" class=\"row_heading level0 row2\" rowspan=2>black</th>\n",
              "                        <th id=\"T_28196988_b2ac_11e9_8ad5_0242ac1c0002level1_row2\" class=\"row_heading level1 row2\" >False</th>\n",
              "                        <td id=\"T_28196988_b2ac_11e9_8ad5_0242ac1c0002row2_col0\" class=\"data row2 col0\" >128866</td>\n",
              "                        <td id=\"T_28196988_b2ac_11e9_8ad5_0242ac1c0002row2_col1\" class=\"data row2 col1\" >52843</td>\n",
              "                        <td id=\"T_28196988_b2ac_11e9_8ad5_0242ac1c0002row2_col2\" class=\"data row2 col2\" >73558</td>\n",
              "                        <td id=\"T_28196988_b2ac_11e9_8ad5_0242ac1c0002row2_col3\" class=\"data row2 col3\" >964</td>\n",
              "                        <td id=\"T_28196988_b2ac_11e9_8ad5_0242ac1c0002row2_col4\" class=\"data row2 col4\" >1.39201</td>\n",
              "                        <td id=\"T_28196988_b2ac_11e9_8ad5_0242ac1c0002row2_col5\" class=\"data row2 col5\" >0.00748064</td>\n",
              "            </tr>\n",
              "            <tr>\n",
              "                                <th id=\"T_28196988_b2ac_11e9_8ad5_0242ac1c0002level1_row3\" class=\"row_heading level1 row3\" >True</th>\n",
              "                        <td id=\"T_28196988_b2ac_11e9_8ad5_0242ac1c0002row3_col0\" class=\"data row3 col0\" >23766</td>\n",
              "                        <td id=\"T_28196988_b2ac_11e9_8ad5_0242ac1c0002row3_col1\" class=\"data row3 col1\" >8061</td>\n",
              "                        <td id=\"T_28196988_b2ac_11e9_8ad5_0242ac1c0002row3_col2\" class=\"data row3 col2\" >10316</td>\n",
              "                        <td id=\"T_28196988_b2ac_11e9_8ad5_0242ac1c0002row3_col3\" class=\"data row3 col3\" >2590</td>\n",
              "                        <td id=\"T_28196988_b2ac_11e9_8ad5_0242ac1c0002row3_col4\" class=\"data row3 col4\" >1.27974</td>\n",
              "                        <td id=\"T_28196988_b2ac_11e9_8ad5_0242ac1c0002row3_col5\" class=\"data row3 col5\" >0.108979</td>\n",
              "            </tr>\n",
              "            <tr>\n",
              "                        <th id=\"T_28196988_b2ac_11e9_8ad5_0242ac1c0002level0_row4\" class=\"row_heading level0 row4\" rowspan=2>hispanic</th>\n",
              "                        <th id=\"T_28196988_b2ac_11e9_8ad5_0242ac1c0002level1_row4\" class=\"row_heading level1 row4\" >False</th>\n",
              "                        <td id=\"T_28196988_b2ac_11e9_8ad5_0242ac1c0002row4_col0\" class=\"data row4 col0\" >104864</td>\n",
              "                        <td id=\"T_28196988_b2ac_11e9_8ad5_0242ac1c0002row4_col1\" class=\"data row4 col1\" >29589</td>\n",
              "                        <td id=\"T_28196988_b2ac_11e9_8ad5_0242ac1c0002row4_col2\" class=\"data row4 col2\" >72532</td>\n",
              "                        <td id=\"T_28196988_b2ac_11e9_8ad5_0242ac1c0002row4_col3\" class=\"data row4 col3\" >874</td>\n",
              "                        <td id=\"T_28196988_b2ac_11e9_8ad5_0242ac1c0002row4_col4\" class=\"data row4 col4\" >2.45132</td>\n",
              "                        <td id=\"T_28196988_b2ac_11e9_8ad5_0242ac1c0002row4_col5\" class=\"data row4 col5\" >0.0083346</td>\n",
              "            </tr>\n",
              "            <tr>\n",
              "                                <th id=\"T_28196988_b2ac_11e9_8ad5_0242ac1c0002level1_row5\" class=\"row_heading level1 row5\" >True</th>\n",
              "                        <td id=\"T_28196988_b2ac_11e9_8ad5_0242ac1c0002row5_col0\" class=\"data row5 col0\" >11533</td>\n",
              "                        <td id=\"T_28196988_b2ac_11e9_8ad5_0242ac1c0002row5_col1\" class=\"data row5 col1\" >1939</td>\n",
              "                        <td id=\"T_28196988_b2ac_11e9_8ad5_0242ac1c0002row5_col2\" class=\"data row5 col2\" >5058</td>\n",
              "                        <td id=\"T_28196988_b2ac_11e9_8ad5_0242ac1c0002row5_col3\" class=\"data row5 col3\" >1421</td>\n",
              "                        <td id=\"T_28196988_b2ac_11e9_8ad5_0242ac1c0002row5_col4\" class=\"data row5 col4\" >2.60856</td>\n",
              "                        <td id=\"T_28196988_b2ac_11e9_8ad5_0242ac1c0002row5_col5\" class=\"data row5 col5\" >0.123212</td>\n",
              "            </tr>\n",
              "            <tr>\n",
              "                        <th id=\"T_28196988_b2ac_11e9_8ad5_0242ac1c0002level0_row6\" class=\"row_heading level0 row6\" rowspan=2>other/unknown</th>\n",
              "                        <th id=\"T_28196988_b2ac_11e9_8ad5_0242ac1c0002level1_row6\" class=\"row_heading level1 row6\" >False</th>\n",
              "                        <td id=\"T_28196988_b2ac_11e9_8ad5_0242ac1c0002row6_col0\" class=\"data row6 col0\" >103369</td>\n",
              "                        <td id=\"T_28196988_b2ac_11e9_8ad5_0242ac1c0002row6_col1\" class=\"data row6 col1\" >22131</td>\n",
              "                        <td id=\"T_28196988_b2ac_11e9_8ad5_0242ac1c0002row6_col2\" class=\"data row6 col2\" >79993</td>\n",
              "                        <td id=\"T_28196988_b2ac_11e9_8ad5_0242ac1c0002row6_col3\" class=\"data row6 col3\" >360</td>\n",
              "                        <td id=\"T_28196988_b2ac_11e9_8ad5_0242ac1c0002row6_col4\" class=\"data row6 col4\" >3.61452</td>\n",
              "                        <td id=\"T_28196988_b2ac_11e9_8ad5_0242ac1c0002row6_col5\" class=\"data row6 col5\" >0.00348267</td>\n",
              "            </tr>\n",
              "            <tr>\n",
              "                                <th id=\"T_28196988_b2ac_11e9_8ad5_0242ac1c0002level1_row7\" class=\"row_heading level1 row7\" >True</th>\n",
              "                        <td id=\"T_28196988_b2ac_11e9_8ad5_0242ac1c0002row7_col0\" class=\"data row7 col0\" >3777</td>\n",
              "                        <td id=\"T_28196988_b2ac_11e9_8ad5_0242ac1c0002row7_col1\" class=\"data row7 col1\" >750</td>\n",
              "                        <td id=\"T_28196988_b2ac_11e9_8ad5_0242ac1c0002row7_col2\" class=\"data row7 col2\" >1665</td>\n",
              "                        <td id=\"T_28196988_b2ac_11e9_8ad5_0242ac1c0002row7_col3\" class=\"data row7 col3\" >554</td>\n",
              "                        <td id=\"T_28196988_b2ac_11e9_8ad5_0242ac1c0002row7_col4\" class=\"data row7 col4\" >2.22</td>\n",
              "                        <td id=\"T_28196988_b2ac_11e9_8ad5_0242ac1c0002row7_col5\" class=\"data row7 col5\" >0.146677</td>\n",
              "            </tr>\n",
              "            <tr>\n",
              "                        <th id=\"T_28196988_b2ac_11e9_8ad5_0242ac1c0002level0_row8\" class=\"row_heading level0 row8\" rowspan=2>white</th>\n",
              "                        <th id=\"T_28196988_b2ac_11e9_8ad5_0242ac1c0002level1_row8\" class=\"row_heading level1 row8\" >False</th>\n",
              "                        <td id=\"T_28196988_b2ac_11e9_8ad5_0242ac1c0002row8_col0\" class=\"data row8 col0\" >361613</td>\n",
              "                        <td id=\"T_28196988_b2ac_11e9_8ad5_0242ac1c0002row8_col1\" class=\"data row8 col1\" >96737</td>\n",
              "                        <td id=\"T_28196988_b2ac_11e9_8ad5_0242ac1c0002row8_col2\" class=\"data row8 col2\" >260997</td>\n",
              "                        <td id=\"T_28196988_b2ac_11e9_8ad5_0242ac1c0002row8_col3\" class=\"data row8 col3\" >1892</td>\n",
              "                        <td id=\"T_28196988_b2ac_11e9_8ad5_0242ac1c0002row8_col4\" class=\"data row8 col4\" >2.69801</td>\n",
              "                        <td id=\"T_28196988_b2ac_11e9_8ad5_0242ac1c0002row8_col5\" class=\"data row8 col5\" >0.00523211</td>\n",
              "            </tr>\n",
              "            <tr>\n",
              "                                <th id=\"T_28196988_b2ac_11e9_8ad5_0242ac1c0002level1_row9\" class=\"row_heading level1 row9\" >True</th>\n",
              "                        <td id=\"T_28196988_b2ac_11e9_8ad5_0242ac1c0002row9_col0\" class=\"data row9 col0\" >11801</td>\n",
              "                        <td id=\"T_28196988_b2ac_11e9_8ad5_0242ac1c0002row9_col1\" class=\"data row9 col1\" >2301</td>\n",
              "                        <td id=\"T_28196988_b2ac_11e9_8ad5_0242ac1c0002row9_col2\" class=\"data row9 col2\" >5537</td>\n",
              "                        <td id=\"T_28196988_b2ac_11e9_8ad5_0242ac1c0002row9_col3\" class=\"data row9 col3\" >2090</td>\n",
              "                        <td id=\"T_28196988_b2ac_11e9_8ad5_0242ac1c0002row9_col4\" class=\"data row9 col4\" >2.40635</td>\n",
              "                        <td id=\"T_28196988_b2ac_11e9_8ad5_0242ac1c0002row9_col5\" class=\"data row9 col5\" >0.177104</td>\n",
              "            </tr>\n",
              "    </tbody></table>"
            ],
            "text/plain": [
              "<pandas.io.formats.style.Styler at 0x7f49023caeb8>"
            ]
          },
          "metadata": {
            "tags": []
          },
          "execution_count": 68
        }
      ]
    },
    {
      "cell_type": "code",
      "metadata": {
        "id": "wXrhQBJD1XGE",
        "colab_type": "code",
        "colab": {
          "base_uri": "https://localhost:8080/",
          "height": 751
        },
        "outputId": "c79dc651-8354-4da7-fc71-ccfe0312f6d3"
      },
      "source": [
        "race_stats = sf.groupby(['reason_for_stop', 'subject_race']).apply(compute_outcome_stats).unstack()\n",
        "fig, axes = plt.subplots(nrows=1, ncols=2, figsize=figsize)\n",
        "race_stats.plot.bar(y='arrest_rate', ax=axes[0], title='Arrest Rate By Race and Violation')\n",
        "race_stats.plot.bar(y='citations_per_warning', ax=axes[1], title='Citations Per Warning By Race and Violation')\n",
        "                                                       # \n",
        "#fig.savefig('images/citations_and_arrests_by_race_and_violation.png', bbox_inches='tight')"
      ],
      "execution_count": 23,
      "outputs": [
        {
          "output_type": "execute_result",
          "data": {
            "text/plain": [
              "<matplotlib.axes._subplots.AxesSubplot at 0x7f4905c116a0>"
            ]
          },
          "metadata": {
            "tags": []
          },
          "execution_count": 23
        },
        {
          "output_type": "display_data",
          "data": {
            "image/png": "[encoded data removed]",
            "text/plain": [
              "<Figure size 1440x576 with 2 Axes>"
            ]
          },
          "metadata": {
            "tags": []
          }
        }
      ]
    },
    {
      "cell_type": "code",
      "metadata": {
        "id": "Uk-UrEYo2nGK",
        "colab_type": "code",
        "colab": {}
      },
      "source": [
        "def compute_search_stats(df):\n",
        "    \"\"\"Compute the search rate and hit rate\"\"\"\n",
        "    search_conducted = df['search_conducted']\n",
        "    contraband_found = df['contraband_found']\n",
        "    n_stops     = len(search_conducted)\n",
        "    n_searches  = sum(search_conducted)\n",
        "    n_hits      = df.contraband_found.sum()\n",
        "    \n",
        "  \n",
        "    search_rate = n_searches / n_stops\n",
        "    \n",
        "    \n",
        "    hit_rate = df.contraband_found.sum() / df.search_conducted.sum()\n",
        "    \n",
        "    return(pd.Series(data = { \n",
        "        'n_stops': n_stops,\n",
        "        'n_searches': n_searches,\n",
        "        'n_hits': n_hits,\n",
        "        'search_rate': search_rate,\n",
        "        'hit_rate': hit_rate\n",
        "    }))"
      ],
      "execution_count": 0,
      "outputs": []
    },
    {
      "cell_type": "code",
      "metadata": {
        "id": "SDBL_6no3O99",
        "colab_type": "code",
        "colab": {
          "base_uri": "https://localhost:8080/",
          "height": 121
        },
        "outputId": "06b82c60-75e9-4998-b172-cad4d12335e9"
      },
      "source": [
        "compute_search_stats(sf)"
      ],
      "execution_count": 25,
      "outputs": [
        {
          "output_type": "execute_result",
          "data": {
            "text/plain": [
              "n_stops        907761.000000\n",
              "n_searches      53756.000000\n",
              "n_hits           8024.000000\n",
              "search_rate         0.059218\n",
              "hit_rate            0.149267\n",
              "dtype: float64"
            ]
          },
          "metadata": {
            "tags": []
          },
          "execution_count": 25
        }
      ]
    },
    {
      "cell_type": "code",
      "metadata": {
        "id": "Az06cbGj30CS",
        "colab_type": "code",
        "colab": {
          "base_uri": "https://localhost:8080/",
          "height": 143
        },
        "outputId": "2ca00878-3e97-499c-e004-ca2698b45cd6"
      },
      "source": [
        "sf.groupby('subject_sex').apply(compute_search_stats)"
      ],
      "execution_count": 26,
      "outputs": [
        {
          "output_type": "execute_result",
          "data": {
            "text/html": [
              "<div>\n",
              "<style scoped>\n",
              "    .dataframe tbody tr th:only-of-type {\n",
              "        vertical-align: middle;\n",
              "    }\n",
              "\n",
              "    .dataframe tbody tr th {\n",
              "        vertical-align: top;\n",
              "    }\n",
              "\n",
              "    .dataframe thead th {\n",
              "        text-align: right;\n",
              "    }\n",
              "</style>\n",
              "<table border=\"1\" class=\"dataframe\">\n",
              "  <thead>\n",
              "    <tr style=\"text-align: right;\">\n",
              "      <th></th>\n",
              "      <th>n_stops</th>\n",
              "      <th>n_searches</th>\n",
              "      <th>n_hits</th>\n",
              "      <th>search_rate</th>\n",
              "      <th>hit_rate</th>\n",
              "    </tr>\n",
              "    <tr>\n",
              "      <th>subject_sex</th>\n",
              "      <th></th>\n",
              "      <th></th>\n",
              "      <th></th>\n",
              "      <th></th>\n",
              "      <th></th>\n",
              "    </tr>\n",
              "  </thead>\n",
              "  <tbody>\n",
              "    <tr>\n",
              "      <th>female</th>\n",
              "      <td>266642.0</td>\n",
              "      <td>9045.0</td>\n",
              "      <td>1854.0</td>\n",
              "      <td>0.033922</td>\n",
              "      <td>0.204975</td>\n",
              "    </tr>\n",
              "    <tr>\n",
              "      <th>male</th>\n",
              "      <td>641119.0</td>\n",
              "      <td>44711.0</td>\n",
              "      <td>6170.0</td>\n",
              "      <td>0.069739</td>\n",
              "      <td>0.137997</td>\n",
              "    </tr>\n",
              "  </tbody>\n",
              "</table>\n",
              "</div>"
            ],
            "text/plain": [
              "              n_stops  n_searches  n_hits  search_rate  hit_rate\n",
              "subject_sex                                                     \n",
              "female       266642.0      9045.0  1854.0     0.033922  0.204975\n",
              "male         641119.0     44711.0  6170.0     0.069739  0.137997"
            ]
          },
          "metadata": {
            "tags": []
          },
          "execution_count": 26
        }
      ]
    },
    {
      "cell_type": "code",
      "metadata": {
        "id": "9_9hteOL4u7d",
        "colab_type": "code",
        "colab": {
          "base_uri": "https://localhost:8080/",
          "height": 275
        },
        "outputId": "16070b46-5f86-4f42-f248-2bd0be91f404"
      },
      "source": [
        "age_groups = pd.cut(sf[\"subject_age\"], np.arange(15, 70, 5))\n",
        "agemap = sf.groupby(age_groups).apply(compute_search_stats)\n",
        "agemap = pd.DataFrame(agemap)\n",
        "\n",
        "(agemap.loc[:]\n",
        "    .style\n",
        "    .background_gradient(cmap='inferno', low=0, high=.8)\n",
        "    .highlight_null('red'))"
      ],
      "execution_count": 27,
      "outputs": [
        {
          "output_type": "execute_result",
          "data": {
            "text/html": [
              "<style  type=\"text/css\" >\n",
              "    #T_aa57d804_b2a6_11e9_8ad5_0242ac1c0002row0_col0 {\n",
              "            background-color:  #150b37;\n",
              "            color:  #f1f1f1;\n",
              "            : ;\n",
              "        }    #T_aa57d804_b2a6_11e9_8ad5_0242ac1c0002row0_col1 {\n",
              "            background-color:  #4c0c6b;\n",
              "            color:  #f1f1f1;\n",
              "            : ;\n",
              "        }    #T_aa57d804_b2a6_11e9_8ad5_0242ac1c0002row0_col2 {\n",
              "            background-color:  #5d126e;\n",
              "            color:  #f1f1f1;\n",
              "            : ;\n",
              "        }    #T_aa57d804_b2a6_11e9_8ad5_0242ac1c0002row0_col3 {\n",
              "            background-color:  #cf4446;\n",
              "            color:  #f1f1f1;\n",
              "            : ;\n",
              "        }    #T_aa57d804_b2a6_11e9_8ad5_0242ac1c0002row0_col4 {\n",
              "            background-color:  #120a32;\n",
              "            color:  #f1f1f1;\n",
              "            : ;\n",
              "        }    #T_aa57d804_b2a6_11e9_8ad5_0242ac1c0002row1_col0 {\n",
              "            background-color:  #c43c4e;\n",
              "            color:  #f1f1f1;\n",
              "            : ;\n",
              "        }    #T_aa57d804_b2a6_11e9_8ad5_0242ac1c0002row1_col1 {\n",
              "            background-color:  #cf4446;\n",
              "            color:  #f1f1f1;\n",
              "            : ;\n",
              "        }    #T_aa57d804_b2a6_11e9_8ad5_0242ac1c0002row1_col2 {\n",
              "            background-color:  #cf4446;\n",
              "            color:  #f1f1f1;\n",
              "            : ;\n",
              "        }    #T_aa57d804_b2a6_11e9_8ad5_0242ac1c0002row1_col3 {\n",
              "            background-color:  #a62d60;\n",
              "            color:  #f1f1f1;\n",
              "            : ;\n",
              "        }    #T_aa57d804_b2a6_11e9_8ad5_0242ac1c0002row1_col4 {\n",
              "            background-color:  #000004;\n",
              "            color:  #f1f1f1;\n",
              "            : ;\n",
              "        }    #T_aa57d804_b2a6_11e9_8ad5_0242ac1c0002row2_col0 {\n",
              "            background-color:  #cf4446;\n",
              "            color:  #f1f1f1;\n",
              "            : ;\n",
              "        }    #T_aa57d804_b2a6_11e9_8ad5_0242ac1c0002row2_col1 {\n",
              "            background-color:  #a32c61;\n",
              "            color:  #f1f1f1;\n",
              "            : ;\n",
              "        }    #T_aa57d804_b2a6_11e9_8ad5_0242ac1c0002row2_col2 {\n",
              "            background-color:  #a32c61;\n",
              "            color:  #f1f1f1;\n",
              "            : ;\n",
              "        }    #T_aa57d804_b2a6_11e9_8ad5_0242ac1c0002row2_col3 {\n",
              "            background-color:  #71196e;\n",
              "            color:  #f1f1f1;\n",
              "            : ;\n",
              "        }    #T_aa57d804_b2a6_11e9_8ad5_0242ac1c0002row2_col4 {\n",
              "            background-color:  #010005;\n",
              "            color:  #f1f1f1;\n",
              "            : ;\n",
              "        }    #T_aa57d804_b2a6_11e9_8ad5_0242ac1c0002row3_col0 {\n",
              "            background-color:  #a02a63;\n",
              "            color:  #f1f1f1;\n",
              "            : ;\n",
              "        }    #T_aa57d804_b2a6_11e9_8ad5_0242ac1c0002row3_col1 {\n",
              "            background-color:  #67166e;\n",
              "            color:  #f1f1f1;\n",
              "            : ;\n",
              "        }    #T_aa57d804_b2a6_11e9_8ad5_0242ac1c0002row3_col2 {\n",
              "            background-color:  #741a6e;\n",
              "            color:  #f1f1f1;\n",
              "            : ;\n",
              "        }    #T_aa57d804_b2a6_11e9_8ad5_0242ac1c0002row3_col3 {\n",
              "            background-color:  #520e6d;\n",
              "            color:  #f1f1f1;\n",
              "            : ;\n",
              "        }    #T_aa57d804_b2a6_11e9_8ad5_0242ac1c0002row3_col4 {\n",
              "            background-color:  #09061f;\n",
              "            color:  #f1f1f1;\n",
              "            : ;\n",
              "        }    #T_aa57d804_b2a6_11e9_8ad5_0242ac1c0002row4_col0 {\n",
              "            background-color:  #771c6d;\n",
              "            color:  #f1f1f1;\n",
              "            : ;\n",
              "        }    #T_aa57d804_b2a6_11e9_8ad5_0242ac1c0002row4_col1 {\n",
              "            background-color:  #400a67;\n",
              "            color:  #f1f1f1;\n",
              "            : ;\n",
              "        }    #T_aa57d804_b2a6_11e9_8ad5_0242ac1c0002row4_col2 {\n",
              "            background-color:  #4c0c6b;\n",
              "            color:  #f1f1f1;\n",
              "            : ;\n",
              "        }    #T_aa57d804_b2a6_11e9_8ad5_0242ac1c0002row4_col3 {\n",
              "            background-color:  #3d0965;\n",
              "            color:  #f1f1f1;\n",
              "            : ;\n",
              "        }    #T_aa57d804_b2a6_11e9_8ad5_0242ac1c0002row4_col4 {\n",
              "            background-color:  #10092d;\n",
              "            color:  #f1f1f1;\n",
              "            : ;\n",
              "        }    #T_aa57d804_b2a6_11e9_8ad5_0242ac1c0002row5_col0 {\n",
              "            background-color:  #65156e;\n",
              "            color:  #f1f1f1;\n",
              "            : ;\n",
              "        }    #T_aa57d804_b2a6_11e9_8ad5_0242ac1c0002row5_col1 {\n",
              "            background-color:  #2b0b57;\n",
              "            color:  #f1f1f1;\n",
              "            : ;\n",
              "        }    #T_aa57d804_b2a6_11e9_8ad5_0242ac1c0002row5_col2 {\n",
              "            background-color:  #3b0964;\n",
              "            color:  #f1f1f1;\n",
              "            : ;\n",
              "        }    #T_aa57d804_b2a6_11e9_8ad5_0242ac1c0002row5_col3 {\n",
              "            background-color:  #2d0b59;\n",
              "            color:  #f1f1f1;\n",
              "            : ;\n",
              "        }    #T_aa57d804_b2a6_11e9_8ad5_0242ac1c0002row5_col4 {\n",
              "            background-color:  #1e0c45;\n",
              "            color:  #f1f1f1;\n",
              "            : ;\n",
              "        }    #T_aa57d804_b2a6_11e9_8ad5_0242ac1c0002row6_col0 {\n",
              "            background-color:  #4a0c6b;\n",
              "            color:  #f1f1f1;\n",
              "            : ;\n",
              "        }    #T_aa57d804_b2a6_11e9_8ad5_0242ac1c0002row6_col1 {\n",
              "            background-color:  #1c0c43;\n",
              "            color:  #f1f1f1;\n",
              "            : ;\n",
              "        }    #T_aa57d804_b2a6_11e9_8ad5_0242ac1c0002row6_col2 {\n",
              "            background-color:  #340a5f;\n",
              "            color:  #f1f1f1;\n",
              "            : ;\n",
              "        }    #T_aa57d804_b2a6_11e9_8ad5_0242ac1c0002row6_col3 {\n",
              "            background-color:  #240c4f;\n",
              "            color:  #f1f1f1;\n",
              "            : ;\n",
              "        }    #T_aa57d804_b2a6_11e9_8ad5_0242ac1c0002row6_col4 {\n",
              "            background-color:  #450a69;\n",
              "            color:  #f1f1f1;\n",
              "            : ;\n",
              "        }    #T_aa57d804_b2a6_11e9_8ad5_0242ac1c0002row7_col0 {\n",
              "            background-color:  #310a5c;\n",
              "            color:  #f1f1f1;\n",
              "            : ;\n",
              "        }    #T_aa57d804_b2a6_11e9_8ad5_0242ac1c0002row7_col1 {\n",
              "            background-color:  #0c0826;\n",
              "            color:  #f1f1f1;\n",
              "            : ;\n",
              "        }    #T_aa57d804_b2a6_11e9_8ad5_0242ac1c0002row7_col2 {\n",
              "            background-color:  #1c0c43;\n",
              "            color:  #f1f1f1;\n",
              "            : ;\n",
              "        }    #T_aa57d804_b2a6_11e9_8ad5_0242ac1c0002row7_col3 {\n",
              "            background-color:  #10092d;\n",
              "            color:  #f1f1f1;\n",
              "            : ;\n",
              "        }    #T_aa57d804_b2a6_11e9_8ad5_0242ac1c0002row7_col4 {\n",
              "            background-color:  #6c186e;\n",
              "            color:  #f1f1f1;\n",
              "            : ;\n",
              "        }    #T_aa57d804_b2a6_11e9_8ad5_0242ac1c0002row8_col0 {\n",
              "            background-color:  #10092d;\n",
              "            color:  #f1f1f1;\n",
              "            : ;\n",
              "        }    #T_aa57d804_b2a6_11e9_8ad5_0242ac1c0002row8_col1 {\n",
              "            background-color:  #02020e;\n",
              "            color:  #f1f1f1;\n",
              "            : ;\n",
              "        }    #T_aa57d804_b2a6_11e9_8ad5_0242ac1c0002row8_col2 {\n",
              "            background-color:  #09061f;\n",
              "            color:  #f1f1f1;\n",
              "            : ;\n",
              "        }    #T_aa57d804_b2a6_11e9_8ad5_0242ac1c0002row8_col3 {\n",
              "            background-color:  #040314;\n",
              "            color:  #f1f1f1;\n",
              "            : ;\n",
              "        }    #T_aa57d804_b2a6_11e9_8ad5_0242ac1c0002row8_col4 {\n",
              "            background-color:  #9f2a63;\n",
              "            color:  #f1f1f1;\n",
              "            : ;\n",
              "        }    #T_aa57d804_b2a6_11e9_8ad5_0242ac1c0002row9_col0 {\n",
              "            background-color:  #000004;\n",
              "            color:  #f1f1f1;\n",
              "            : ;\n",
              "        }    #T_aa57d804_b2a6_11e9_8ad5_0242ac1c0002row9_col1 {\n",
              "            background-color:  #000004;\n",
              "            color:  #f1f1f1;\n",
              "            : ;\n",
              "        }    #T_aa57d804_b2a6_11e9_8ad5_0242ac1c0002row9_col2 {\n",
              "            background-color:  #000004;\n",
              "            color:  #f1f1f1;\n",
              "            : ;\n",
              "        }    #T_aa57d804_b2a6_11e9_8ad5_0242ac1c0002row9_col3 {\n",
              "            background-color:  #000004;\n",
              "            color:  #f1f1f1;\n",
              "            : ;\n",
              "        }    #T_aa57d804_b2a6_11e9_8ad5_0242ac1c0002row9_col4 {\n",
              "            background-color:  #cf4446;\n",
              "            color:  #f1f1f1;\n",
              "            : ;\n",
              "        }</style><table id=\"T_aa57d804_b2a6_11e9_8ad5_0242ac1c0002\" ><thead>    <tr>        <th class=\"blank level0\" ></th>        <th class=\"col_heading level0 col0\" >n_stops</th>        <th class=\"col_heading level0 col1\" >n_searches</th>        <th class=\"col_heading level0 col2\" >n_hits</th>        <th class=\"col_heading level0 col3\" >search_rate</th>        <th class=\"col_heading level0 col4\" >hit_rate</th>    </tr>    <tr>        <th class=\"index_name level0\" >subject_age</th>        <th class=\"blank\" ></th>        <th class=\"blank\" ></th>        <th class=\"blank\" ></th>        <th class=\"blank\" ></th>        <th class=\"blank\" ></th>    </tr></thead><tbody>\n",
              "                <tr>\n",
              "                        <th id=\"T_aa57d804_b2a6_11e9_8ad5_0242ac1c0002level0_row0\" class=\"row_heading level0 row0\" >(15, 20]</th>\n",
              "                        <td id=\"T_aa57d804_b2a6_11e9_8ad5_0242ac1c0002row0_col0\" class=\"data row0 col0\" >47738</td>\n",
              "                        <td id=\"T_aa57d804_b2a6_11e9_8ad5_0242ac1c0002row0_col1\" class=\"data row0 col1\" >5435</td>\n",
              "                        <td id=\"T_aa57d804_b2a6_11e9_8ad5_0242ac1c0002row0_col2\" class=\"data row0 col2\" >804</td>\n",
              "                        <td id=\"T_aa57d804_b2a6_11e9_8ad5_0242ac1c0002row0_col3\" class=\"data row0 col3\" >0.113851</td>\n",
              "                        <td id=\"T_aa57d804_b2a6_11e9_8ad5_0242ac1c0002row0_col4\" class=\"data row0 col4\" >0.14793</td>\n",
              "            </tr>\n",
              "            <tr>\n",
              "                        <th id=\"T_aa57d804_b2a6_11e9_8ad5_0242ac1c0002level0_row1\" class=\"row_heading level0 row1\" >(20, 25]</th>\n",
              "                        <td id=\"T_aa57d804_b2a6_11e9_8ad5_0242ac1c0002row1_col0\" class=\"data row1 col0\" >132864</td>\n",
              "                        <td id=\"T_aa57d804_b2a6_11e9_8ad5_0242ac1c0002row1_col1\" class=\"data row1 col1\" >12691</td>\n",
              "                        <td id=\"T_aa57d804_b2a6_11e9_8ad5_0242ac1c0002row1_col2\" class=\"data row1 col2\" >1493</td>\n",
              "                        <td id=\"T_aa57d804_b2a6_11e9_8ad5_0242ac1c0002row1_col3\" class=\"data row1 col3\" >0.0955187</td>\n",
              "                        <td id=\"T_aa57d804_b2a6_11e9_8ad5_0242ac1c0002row1_col4\" class=\"data row1 col4\" >0.117642</td>\n",
              "            </tr>\n",
              "            <tr>\n",
              "                        <th id=\"T_aa57d804_b2a6_11e9_8ad5_0242ac1c0002level0_row2\" class=\"row_heading level0 row2\" >(25, 30]</th>\n",
              "                        <td id=\"T_aa57d804_b2a6_11e9_8ad5_0242ac1c0002row2_col0\" class=\"data row2 col0\" >138553</td>\n",
              "                        <td id=\"T_aa57d804_b2a6_11e9_8ad5_0242ac1c0002row2_col1\" class=\"data row2 col1\" >10116</td>\n",
              "                        <td id=\"T_aa57d804_b2a6_11e9_8ad5_0242ac1c0002row2_col2\" class=\"data row2 col2\" >1214</td>\n",
              "                        <td id=\"T_aa57d804_b2a6_11e9_8ad5_0242ac1c0002row2_col3\" class=\"data row2 col3\" >0.0730118</td>\n",
              "                        <td id=\"T_aa57d804_b2a6_11e9_8ad5_0242ac1c0002row2_col4\" class=\"data row2 col4\" >0.120008</td>\n",
              "            </tr>\n",
              "            <tr>\n",
              "                        <th id=\"T_aa57d804_b2a6_11e9_8ad5_0242ac1c0002level0_row3\" class=\"row_heading level0 row3\" >(30, 35]</th>\n",
              "                        <td id=\"T_aa57d804_b2a6_11e9_8ad5_0242ac1c0002row3_col0\" class=\"data row3 col0\" >114223</td>\n",
              "                        <td id=\"T_aa57d804_b2a6_11e9_8ad5_0242ac1c0002row3_col1\" class=\"data row3 col1\" >6874</td>\n",
              "                        <td id=\"T_aa57d804_b2a6_11e9_8ad5_0242ac1c0002row3_col2\" class=\"data row3 col2\" >941</td>\n",
              "                        <td id=\"T_aa57d804_b2a6_11e9_8ad5_0242ac1c0002row3_col3\" class=\"data row3 col3\" >0.0601805</td>\n",
              "                        <td id=\"T_aa57d804_b2a6_11e9_8ad5_0242ac1c0002row3_col4\" class=\"data row3 col4\" >0.136893</td>\n",
              "            </tr>\n",
              "            <tr>\n",
              "                        <th id=\"T_aa57d804_b2a6_11e9_8ad5_0242ac1c0002level0_row4\" class=\"row_heading level0 row4\" >(35, 40]</th>\n",
              "                        <td id=\"T_aa57d804_b2a6_11e9_8ad5_0242ac1c0002row4_col0\" class=\"data row4 col0\" >94103</td>\n",
              "                        <td id=\"T_aa57d804_b2a6_11e9_8ad5_0242ac1c0002row4_col1\" class=\"data row4 col1\" >4836</td>\n",
              "                        <td id=\"T_aa57d804_b2a6_11e9_8ad5_0242ac1c0002row4_col2\" class=\"data row4 col2\" >702</td>\n",
              "                        <td id=\"T_aa57d804_b2a6_11e9_8ad5_0242ac1c0002row4_col3\" class=\"data row4 col3\" >0.0513905</td>\n",
              "                        <td id=\"T_aa57d804_b2a6_11e9_8ad5_0242ac1c0002row4_col4\" class=\"data row4 col4\" >0.145161</td>\n",
              "            </tr>\n",
              "            <tr>\n",
              "                        <th id=\"T_aa57d804_b2a6_11e9_8ad5_0242ac1c0002level0_row5\" class=\"row_heading level0 row5\" >(40, 45]</th>\n",
              "                        <td id=\"T_aa57d804_b2a6_11e9_8ad5_0242ac1c0002row5_col0\" class=\"data row5 col0\" >85425</td>\n",
              "                        <td id=\"T_aa57d804_b2a6_11e9_8ad5_0242ac1c0002row5_col1\" class=\"data row5 col1\" >3859</td>\n",
              "                        <td id=\"T_aa57d804_b2a6_11e9_8ad5_0242ac1c0002row5_col2\" class=\"data row5 col2\" >612</td>\n",
              "                        <td id=\"T_aa57d804_b2a6_11e9_8ad5_0242ac1c0002row5_col3\" class=\"data row5 col3\" >0.0451741</td>\n",
              "                        <td id=\"T_aa57d804_b2a6_11e9_8ad5_0242ac1c0002row5_col4\" class=\"data row5 col4\" >0.15859</td>\n",
              "            </tr>\n",
              "            <tr>\n",
              "                        <th id=\"T_aa57d804_b2a6_11e9_8ad5_0242ac1c0002level0_row6\" class=\"row_heading level0 row6\" >(45, 50]</th>\n",
              "                        <td id=\"T_aa57d804_b2a6_11e9_8ad5_0242ac1c0002row6_col0\" class=\"data row6 col0\" >72422</td>\n",
              "                        <td id=\"T_aa57d804_b2a6_11e9_8ad5_0242ac1c0002row6_col1\" class=\"data row6 col1\" >3032</td>\n",
              "                        <td id=\"T_aa57d804_b2a6_11e9_8ad5_0242ac1c0002row6_col2\" class=\"data row6 col2\" >575</td>\n",
              "                        <td id=\"T_aa57d804_b2a6_11e9_8ad5_0242ac1c0002row6_col3\" class=\"data row6 col3\" >0.0418657</td>\n",
              "                        <td id=\"T_aa57d804_b2a6_11e9_8ad5_0242ac1c0002row6_col4\" class=\"data row6 col4\" >0.189644</td>\n",
              "            </tr>\n",
              "            <tr>\n",
              "                        <th id=\"T_aa57d804_b2a6_11e9_8ad5_0242ac1c0002level0_row7\" class=\"row_heading level0 row7\" >(50, 55]</th>\n",
              "                        <td id=\"T_aa57d804_b2a6_11e9_8ad5_0242ac1c0002row7_col0\" class=\"data row7 col0\" >61028</td>\n",
              "                        <td id=\"T_aa57d804_b2a6_11e9_8ad5_0242ac1c0002row7_col1\" class=\"data row7 col1\" >1998</td>\n",
              "                        <td id=\"T_aa57d804_b2a6_11e9_8ad5_0242ac1c0002row7_col2\" class=\"data row7 col2\" >441</td>\n",
              "                        <td id=\"T_aa57d804_b2a6_11e9_8ad5_0242ac1c0002row7_col3\" class=\"data row7 col3\" >0.0327391</td>\n",
              "                        <td id=\"T_aa57d804_b2a6_11e9_8ad5_0242ac1c0002row7_col4\" class=\"data row7 col4\" >0.220721</td>\n",
              "            </tr>\n",
              "            <tr>\n",
              "                        <th id=\"T_aa57d804_b2a6_11e9_8ad5_0242ac1c0002level0_row8\" class=\"row_heading level0 row8\" >(55, 60]</th>\n",
              "                        <td id=\"T_aa57d804_b2a6_11e9_8ad5_0242ac1c0002row8_col0\" class=\"data row8 col0\" >44866</td>\n",
              "                        <td id=\"T_aa57d804_b2a6_11e9_8ad5_0242ac1c0002row8_col1\" class=\"data row8 col1\" >1135</td>\n",
              "                        <td id=\"T_aa57d804_b2a6_11e9_8ad5_0242ac1c0002row8_col2\" class=\"data row8 col2\" >299</td>\n",
              "                        <td id=\"T_aa57d804_b2a6_11e9_8ad5_0242ac1c0002row8_col3\" class=\"data row8 col3\" >0.0252976</td>\n",
              "                        <td id=\"T_aa57d804_b2a6_11e9_8ad5_0242ac1c0002row8_col4\" class=\"data row8 col4\" >0.263436</td>\n",
              "            </tr>\n",
              "            <tr>\n",
              "                        <th id=\"T_aa57d804_b2a6_11e9_8ad5_0242ac1c0002level0_row9\" class=\"row_heading level0 row9\" >(60, 65]</th>\n",
              "                        <td id=\"T_aa57d804_b2a6_11e9_8ad5_0242ac1c0002row9_col0\" class=\"data row9 col0\" >28672</td>\n",
              "                        <td id=\"T_aa57d804_b2a6_11e9_8ad5_0242ac1c0002row9_col1\" class=\"data row9 col1\" >546</td>\n",
              "                        <td id=\"T_aa57d804_b2a6_11e9_8ad5_0242ac1c0002row9_col2\" class=\"data row9 col2\" >168</td>\n",
              "                        <td id=\"T_aa57d804_b2a6_11e9_8ad5_0242ac1c0002row9_col3\" class=\"data row9 col3\" >0.019043</td>\n",
              "                        <td id=\"T_aa57d804_b2a6_11e9_8ad5_0242ac1c0002row9_col4\" class=\"data row9 col4\" >0.307692</td>\n",
              "            </tr>\n",
              "    </tbody></table>"
            ],
            "text/plain": [
              "<pandas.io.formats.style.Styler at 0x7f4905a9ce48>"
            ]
          },
          "metadata": {
            "tags": []
          },
          "execution_count": 27
        }
      ]
    },
    {
      "cell_type": "code",
      "metadata": {
        "id": "ZtUgUqaV5xZi",
        "colab_type": "code",
        "colab": {
          "base_uri": "https://localhost:8080/",
          "height": 563
        },
        "outputId": "3ed75c93-f699-4da4-8345-e821841b47c0"
      },
      "source": [
        "age_stats = sf.groupby([age_groups, 'subject_race']).apply(compute_search_stats).unstack()\n",
        "\n",
        "fig, axes = plt.subplots(nrows=1, ncols=2, figsize=figsize)\n",
        "age_stats.plot.bar(y='n_stops', ax=axes[0], title='Stops by Age')\n",
        "age_stats.plot.bar(y='n_searches', ax=axes[1], title='Searches by Age');"
      ],
      "execution_count": 28,
      "outputs": [
        {
          "output_type": "display_data",
          "data": {
            "image/png": "[encoded data removed]",
            "text/plain": [
              "<Figure size 1440x576 with 2 Axes>"
            ]
          },
          "metadata": {
            "tags": []
          }
        }
      ]
    },
    {
      "cell_type": "code",
      "metadata": {
        "id": "0xlqrKVhAgYS",
        "colab_type": "code",
        "colab": {
          "base_uri": "https://localhost:8080/",
          "height": 536
        },
        "outputId": "a0f97f7e-97bf-4044-9805-42e6cd4fe178"
      },
      "source": [
        "reason_stats = sf.groupby([age_groups,'subject_sex']).apply(compute_outcome_stats).unstack()\n",
        "fig, axes = plt.subplots(nrows=1, ncols=2, figsize=(40,8))\n",
        "reason_stats.plot.barh(y='arrest_rate', ax=axes[0], title='Arrest Rate By Race and Location')\n",
        "reason_stats.plot.barh(y='citations_per_warning', ax=axes[1], title='Citations Per Warning By Race and Location')\n",
        "                                                       # \n",
        "#fig.savefig('images/citations_and_arrests_by_race_and_violation.png', bbox_inches='tight')"
      ],
      "execution_count": 41,
      "outputs": [
        {
          "output_type": "execute_result",
          "data": {
            "text/plain": [
              "<matplotlib.axes._subplots.AxesSubplot at 0x7f490593a710>"
            ]
          },
          "metadata": {
            "tags": []
          },
          "execution_count": 41
        },
        {
          "output_type": "display_data",
          "data": {
            "image/png": "[encoded data removed]",
            "text/plain": [
              "<Figure size 2880x576 with 2 Axes>"
            ]
          },
          "metadata": {
            "tags": []
          }
        }
      ]
    },
    {
      "cell_type": "code",
      "metadata": {
        "id": "kOq6G8omCtyX",
        "colab_type": "code",
        "colab": {
          "base_uri": "https://localhost:8080/",
          "height": 347
        },
        "outputId": "c01733b0-08ec-48a6-e1db-f68d7f57d665"
      },
      "source": [
        "sf.columns.tolist()\n"
      ],
      "execution_count": 30,
      "outputs": [
        {
          "output_type": "execute_result",
          "data": {
            "text/plain": [
              "['date',\n",
              " 'time',\n",
              " 'location',\n",
              " 'lat',\n",
              " 'lng',\n",
              " 'district',\n",
              " 'subject_age',\n",
              " 'subject_race',\n",
              " 'subject_sex',\n",
              " 'type',\n",
              " 'arrest_made',\n",
              " 'citation_issued',\n",
              " 'warning_issued',\n",
              " 'outcome',\n",
              " 'contraband_found',\n",
              " 'search_conducted',\n",
              " 'search_vehicle',\n",
              " 'search_basis',\n",
              " 'reason_for_stop']"
            ]
          },
          "metadata": {
            "tags": []
          },
          "execution_count": 30
        }
      ]
    },
    {
      "cell_type": "code",
      "metadata": {
        "id": "HOmhf0d4Cwo7",
        "colab_type": "code",
        "colab": {}
      },
      "source": [
        "import seaborn as sns\n"
      ],
      "execution_count": 0,
      "outputs": []
    },
    {
      "cell_type": "code",
      "metadata": {
        "id": "p9SuRw4SF44g",
        "colab_type": "code",
        "colab": {}
      },
      "source": [
        "plt.figure(figsize=(16,9))\n",
        "plt.title(\"Map of Stops\")\n",
        "sns.regplot(x='lat',y='lng',data=sf);"
      ],
      "execution_count": 0,
      "outputs": []
    },
    {
      "cell_type": "code",
      "metadata": {
        "id": "wWZo4d1iOlWD",
        "colab_type": "code",
        "colab": {
          "base_uri": "https://localhost:8080/",
          "height": 121
        },
        "outputId": "7747a591-aa21-4a52-f2d2-a723f8e20eee"
      },
      "source": [
        "sf.subject_race.value_counts().tolist"
      ],
      "execution_count": 89,
      "outputs": [
        {
          "output_type": "execute_result",
          "data": {
            "text/plain": [
              "white                     373414\n",
              "asian/pacific islander    158172\n",
              "black                     152632\n",
              "hispanic                  116397\n",
              "other/unknown             107146\n",
              "Name: subject_race, dtype: int64"
            ]
          },
          "metadata": {
            "tags": []
          },
          "execution_count": 89
        }
      ]
    },
    {
      "cell_type": "code",
      "metadata": {
        "id": "9mk0AoFbG0KZ",
        "colab_type": "code",
        "colab": {
          "base_uri": "https://localhost:8080/",
          "height": 575
        },
        "outputId": "b7814f98-ec17-473d-a53d-06e405887fad"
      },
      "source": [
        "plt.figure(figsize=(16,9))\n",
        "plt.title(\"Map of Stops\")\n",
        "sns.scatterplot(x='lat',y='lng',hue='subject_race', data=sf);"
      ],
      "execution_count": 53,
      "outputs": [
        {
          "output_type": "display_data",
          "data": {
            "image/png": "[encoded data removed]",
            "text/plain": [
              "<Figure size 1152x648 with 1 Axes>"
            ]
          },
          "metadata": {
            "tags": []
          }
        }
      ]
    },
    {
      "cell_type": "code",
      "metadata": {
        "id": "_MxG0RswJLEk",
        "colab_type": "code",
        "colab": {
          "base_uri": "https://localhost:8080/",
          "height": 575
        },
        "outputId": "d281060c-f203-4fdd-e03a-b0b5343fcc42"
      },
      "source": [
        "plt.figure(figsize=(16,9))\n",
        "sns.lineplot(x='n_stops', y='n_hits', color='orange',label='Hits', data=agemap)\n",
        "sns.lineplot(x='n_stops', y='n_searches', color='red',label='Searches', data=agemap);"
      ],
      "execution_count": 65,
      "outputs": [
        {
          "output_type": "display_data",
          "data": {
            "image/png": "[encoded data removed]",
            "text/plain": [
              "<Figure size 1152x648 with 1 Axes>"
            ]
          },
          "metadata": {
            "tags": []
          }
        }
      ]
    },
    {
      "cell_type": "code",
      "metadata": {
        "id": "xaFU5X0tPfTw",
        "colab_type": "code",
        "colab": {}
      },
      "source": [
        ""
      ],
      "execution_count": 0,
      "outputs": []
    }
  ]
}